{
 "cells": [
  {
   "cell_type": "markdown",
   "id": "a667ce85",
   "metadata": {},
   "source": [
    "### Test of data instantiation"
   ]
  },
  {
   "cell_type": "code",
   "execution_count": 1,
   "id": "21443577",
   "metadata": {},
   "outputs": [],
   "source": [
    "import torch\n",
    "import numpy\n",
    "from torch.utils.data import Dataset, DataLoader \n",
    "from torchvision.datasets import ImageFolder\n",
    "import torchvision.transforms as T\n",
    "import pandas as pd\n",
    "from PIL import Image\n",
    "import os\n",
    "from src import BWDatasets"
   ]
  },
  {
   "cell_type": "code",
   "execution_count": 2,
   "id": "701cb823",
   "metadata": {},
   "outputs": [],
   "source": [
    "label_path = \"dataset/datasets/rf/ringcodes.csv\"\n",
    "image_path = \"dataset/datasets/rf/images\"\n",
    "max_n = 10\n",
    "transform = T.Compose([\n",
    "    #T.Resize((224,224)),\n",
    "    T.ToTensor()\n",
    "])\n",
    "exp_dataset = BWDatasets.TrainDataSet(img_path=image_path, labels_path=label_path, transform=transform, max_n=max_n)\n"
   ]
  },
  {
   "cell_type": "code",
   "execution_count": 3,
   "id": "ab310a41",
   "metadata": {},
   "outputs": [],
   "source": [
    "\n",
    "exp_loader = DataLoader(dataset=exp_dataset, batch_size=64, shuffle=True)\n"
   ]
  },
  {
   "cell_type": "code",
   "execution_count": 4,
   "id": "aa415b28",
   "metadata": {},
   "outputs": [
    {
     "name": "stderr",
     "output_type": "stream",
     "text": [
      "c:\\Users\\legom\\anaconda3\\envs\\birdword\\Lib\\site-packages\\tqdm\\auto.py:21: TqdmWarning: IProgress not found. Please update jupyter and ipywidgets. See https://ipywidgets.readthedocs.io/en/stable/user_install.html\n",
      "  from .autonotebook import tqdm as notebook_tqdm\n",
      "c:\\Users\\legom\\anaconda3\\envs\\birdword\\Lib\\site-packages\\paddle\\utils\\cpp_extension\\extension_utils.py:711: UserWarning: No ccache found. Please be aware that recompiling all source files may be required. You can download and install ccache from: https://github.com/ccache/ccache/blob/master/doc/INSTALL.md\n",
      "  warnings.warn(warning_message)\n",
      "\u001b[32mCreating model: ('PP-LCNet_x1_0_doc_ori', None)\u001b[0m\n",
      "\u001b[32mUsing official model (PP-LCNet_x1_0_doc_ori), the model files will be automatically downloaded and saved in C:\\Users\\legom\\.paddlex\\official_models.\u001b[0m\n",
      "Fetching 6 files: 100%|██████████| 6/6 [00:00<00:00, 3727.72it/s]\n",
      "\u001b[32mCreating model: ('UVDoc', None)\u001b[0m\n",
      "\u001b[32mUsing official model (UVDoc), the model files will be automatically downloaded and saved in C:\\Users\\legom\\.paddlex\\official_models.\u001b[0m\n",
      "Fetching 6 files: 100%|██████████| 6/6 [00:00<00:00, 1346.27it/s]\n",
      "\u001b[32mCreating model: ('PP-LCNet_x1_0_textline_ori', None)\u001b[0m\n",
      "\u001b[32mUsing official model (PP-LCNet_x1_0_textline_ori), the model files will be automatically downloaded and saved in C:\\Users\\legom\\.paddlex\\official_models.\u001b[0m\n",
      "\u001b[32mCreating model: ('PP-OCRv5_server_det', None)\u001b[0m\n",
      "\u001b[32mUsing official model (PP-OCRv5_server_det), the model files will be automatically downloaded and saved in C:\\Users\\legom\\.paddlex\\official_models.\u001b[0m\n",
      "Fetching 6 files: 100%|██████████| 6/6 [00:00<00:00, 1864.55it/s]\n",
      "\u001b[32mCreating model: ('PP-OCRv5_server_rec', None)\u001b[0m\n",
      "\u001b[32mUsing official model (PP-OCRv5_server_rec), the model files will be automatically downloaded and saved in C:\\Users\\legom\\.paddlex\\official_models.\u001b[0m\n",
      "Fetching 6 files: 100%|██████████| 6/6 [00:00<00:00, 3309.99it/s]\n"
     ]
    }
   ],
   "source": [
    "from paddleocr import PaddleOCR as POCR\n",
    "\n",
    "ocr = POCR(lang=\"en\", use_doc_orientation_classify=True, use_doc_unwarping=True, use_textline_orientation=True)\n"
   ]
  },
  {
   "cell_type": "code",
   "execution_count": 5,
   "id": "39140e42",
   "metadata": {},
   "outputs": [],
   "source": [
    "images = []\n",
    "images.append(BWDatasets.open_image(filepath=\"other/sign1.jpg\"))\n",
    "images.append(BWDatasets.open_image(filepath=\"other/sign2.jpg\"))\n",
    "images.append(BWDatasets.open_image(filepath=\"other/sign3.jpg\"))\n",
    "images.append(BWDatasets.open_image(filepath=\"other/sign4.jpg\"))\n"
   ]
  },
  {
   "cell_type": "code",
   "execution_count": null,
   "id": "bdb1a3f6",
   "metadata": {},
   "outputs": [],
   "source": [
    "def prediction(dataloader):\n",
    "    for images, labels in dataloader:\n",
    "        images = BWDatasets.tensor_to_numpy(images)\n",
    "        labels = labels[0]\n",
    "        for image in images:\n",
    "            result = ocr.predict(image)\n",
    "            \n",
    "            print(\"-------------------\")\n",
    "            print(f'Prediction: {result[0][\"rec_texts\"]}')\n",
    "            print(f'Actual: {labels}')\n",
    "\n"
   ]
  },
  {
   "cell_type": "code",
   "execution_count": 22,
   "id": "4191811f",
   "metadata": {},
   "outputs": [
    {
     "name": "stdout",
     "output_type": "stream",
     "text": [
      "-------------------\n",
      "Prediction: []\n",
      "Actual: ('J194V', 'JE94C', 'JJ94C', 'JE24X', 'JE24X', 'JJ94C', 'JE24X', 'JJ89C', 'JE25X', 'J808V')\n",
      "-------------------\n",
      "Prediction: []\n",
      "Actual: ('J194V', 'JE94C', 'JJ94C', 'JE24X', 'JE24X', 'JJ94C', 'JE24X', 'JJ89C', 'JE25X', 'J808V')\n",
      "-------------------\n",
      "Prediction: []\n",
      "Actual: ('J194V', 'JE94C', 'JJ94C', 'JE24X', 'JE24X', 'JJ94C', 'JE24X', 'JJ89C', 'JE25X', 'J808V')\n",
      "-------------------\n",
      "Prediction: []\n",
      "Actual: ('J194V', 'JE94C', 'JJ94C', 'JE24X', 'JE24X', 'JJ94C', 'JE24X', 'JJ89C', 'JE25X', 'J808V')\n",
      "-------------------\n",
      "Prediction: []\n",
      "Actual: ('J194V', 'JE94C', 'JJ94C', 'JE24X', 'JE24X', 'JJ94C', 'JE24X', 'JJ89C', 'JE25X', 'J808V')\n",
      "-------------------\n",
      "Prediction: []\n",
      "Actual: ('J194V', 'JE94C', 'JJ94C', 'JE24X', 'JE24X', 'JJ94C', 'JE24X', 'JJ89C', 'JE25X', 'J808V')\n",
      "-------------------\n",
      "Prediction: ['']\n",
      "Actual: ('J194V', 'JE94C', 'JJ94C', 'JE24X', 'JE24X', 'JJ94C', 'JE24X', 'JJ89C', 'JE25X', 'J808V')\n",
      "-------------------\n",
      "Prediction: []\n",
      "Actual: ('J194V', 'JE94C', 'JJ94C', 'JE24X', 'JE24X', 'JJ94C', 'JE24X', 'JJ89C', 'JE25X', 'J808V')\n",
      "-------------------\n",
      "Prediction: []\n",
      "Actual: ('J194V', 'JE94C', 'JJ94C', 'JE24X', 'JE24X', 'JJ94C', 'JE24X', 'JJ89C', 'JE25X', 'J808V')\n",
      "-------------------\n",
      "Prediction: []\n",
      "Actual: ('J194V', 'JE94C', 'JJ94C', 'JE24X', 'JE24X', 'JJ94C', 'JE24X', 'JJ89C', 'JE25X', 'J808V')\n"
     ]
    }
   ],
   "source": [
    "prediction(exp_loader)\n",
    "\n"
   ]
  },
  {
   "cell_type": "code",
   "execution_count": null,
   "id": "d4e4f95f",
   "metadata": {},
   "outputs": [],
   "source": []
  },
  {
   "cell_type": "code",
   "execution_count": null,
   "id": "4d8c51f4",
   "metadata": {},
   "outputs": [],
   "source": []
  },
  {
   "cell_type": "code",
   "execution_count": null,
   "id": "1d954f08",
   "metadata": {},
   "outputs": [],
   "source": []
  }
 ],
 "metadata": {
  "kernelspec": {
   "display_name": "birdword",
   "language": "python",
   "name": "python3"
  },
  "language_info": {
   "codemirror_mode": {
    "name": "ipython",
    "version": 3
   },
   "file_extension": ".py",
   "mimetype": "text/x-python",
   "name": "python",
   "nbconvert_exporter": "python",
   "pygments_lexer": "ipython3",
   "version": "3.13.5"
  }
 },
 "nbformat": 4,
 "nbformat_minor": 5
}
