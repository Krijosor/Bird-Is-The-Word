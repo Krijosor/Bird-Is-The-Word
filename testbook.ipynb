{
 "cells": [
  {
   "cell_type": "markdown",
   "id": "a667ce85",
   "metadata": {},
   "source": [
    "### Test of data instantiation"
   ]
  },
  {
   "cell_type": "code",
   "execution_count": 60,
   "id": "21443577",
   "metadata": {},
   "outputs": [],
   "source": [
    "import torch\n",
    "import numpy\n",
    "from torch.utils.data import Dataset, DataLoader \n",
    "from torchvision.datasets import ImageFolder\n",
    "import torchvision.transforms as T\n",
    "import pandas as pd\n",
    "from PIL import Image\n",
    "import os\n"
   ]
  },
  {
   "cell_type": "code",
   "execution_count": 61,
   "id": "3dc3d94a",
   "metadata": {},
   "outputs": [],
   "source": [
    "\n",
    "        \n",
    "# img = torch.ones(6, 3)\n",
    "# labels = [0, 1, 1, 1, 0, 0]\n",
    "\n",
    "# dataset = ExpDataSet(img, labels)\n",
    "# print(dataset[4])\n",
    "\n"
   ]
  },
  {
   "cell_type": "code",
   "execution_count": 62,
   "id": "9f3d42eb",
   "metadata": {},
   "outputs": [
    {
     "data": {
      "text/html": [
       "<div>\n",
       "<style scoped>\n",
       "    .dataframe tbody tr th:only-of-type {\n",
       "        vertical-align: middle;\n",
       "    }\n",
       "\n",
       "    .dataframe tbody tr th {\n",
       "        vertical-align: top;\n",
       "    }\n",
       "\n",
       "    .dataframe thead th {\n",
       "        text-align: right;\n",
       "    }\n",
       "</style>\n",
       "<table border=\"1\" class=\"dataframe\">\n",
       "  <thead>\n",
       "    <tr style=\"text-align: right;\">\n",
       "      <th></th>\n",
       "      <th>filename</th>\n",
       "      <th>code</th>\n",
       "      <th>color</th>\n",
       "    </tr>\n",
       "  </thead>\n",
       "  <tbody>\n",
       "    <tr>\n",
       "      <th>0</th>\n",
       "      <td>20240408-145102.064779(162.29,-4.57,9209.0).jpg</td>\n",
       "      <td>JE24X</td>\n",
       "      <td>NW</td>\n",
       "    </tr>\n",
       "    <tr>\n",
       "      <th>1</th>\n",
       "      <td>20240408-145142.722154(103.96,-3.69,10150.0).jpg</td>\n",
       "      <td>JJ94C</td>\n",
       "      <td>NW</td>\n",
       "    </tr>\n",
       "    <tr>\n",
       "      <th>2</th>\n",
       "      <td>20240408-145459.652977(162.36,-4.64,7886.0).jpg</td>\n",
       "      <td>JE24X</td>\n",
       "      <td>NW</td>\n",
       "    </tr>\n",
       "    <tr>\n",
       "      <th>3</th>\n",
       "      <td>20240408-145544.814361(93.19,-3.36,10055.0).jpg</td>\n",
       "      <td>JJ94C</td>\n",
       "      <td>NW</td>\n",
       "    </tr>\n",
       "    <tr>\n",
       "      <th>4</th>\n",
       "      <td>20240408-145602.037977(80.53,-3.07,10338.0).jpg</td>\n",
       "      <td>JE94C</td>\n",
       "      <td>NW</td>\n",
       "    </tr>\n",
       "    <tr>\n",
       "      <th>5</th>\n",
       "      <td>20240408-152700.065700(-163.15,-3.84,10636.0).jpg</td>\n",
       "      <td>J194V</td>\n",
       "      <td>NW</td>\n",
       "    </tr>\n",
       "    <tr>\n",
       "      <th>6</th>\n",
       "      <td>20240408-152816.726683(132.59,-1.38,10382.0).jpg</td>\n",
       "      <td>JJ89C</td>\n",
       "      <td>NW</td>\n",
       "    </tr>\n",
       "    <tr>\n",
       "      <th>7</th>\n",
       "      <td>20240408-153023.711880(167.64,-5.87,8263.0).jpg</td>\n",
       "      <td>JE24X</td>\n",
       "      <td>NW</td>\n",
       "    </tr>\n",
       "    <tr>\n",
       "      <th>8</th>\n",
       "      <td>20240408-153158.880806(100.81,-19.02,3832.0).jpg</td>\n",
       "      <td>J808V</td>\n",
       "      <td>NW</td>\n",
       "    </tr>\n",
       "    <tr>\n",
       "      <th>9</th>\n",
       "      <td>20240408-154814(-173.23,-5.81,8512.0).jpg</td>\n",
       "      <td>JE25X</td>\n",
       "      <td>NW</td>\n",
       "    </tr>\n",
       "  </tbody>\n",
       "</table>\n",
       "</div>"
      ],
      "text/plain": [
       "                                            filename   code color\n",
       "0    20240408-145102.064779(162.29,-4.57,9209.0).jpg  JE24X    NW\n",
       "1   20240408-145142.722154(103.96,-3.69,10150.0).jpg  JJ94C    NW\n",
       "2    20240408-145459.652977(162.36,-4.64,7886.0).jpg  JE24X    NW\n",
       "3    20240408-145544.814361(93.19,-3.36,10055.0).jpg  JJ94C    NW\n",
       "4    20240408-145602.037977(80.53,-3.07,10338.0).jpg  JE94C    NW\n",
       "5  20240408-152700.065700(-163.15,-3.84,10636.0).jpg  J194V    NW\n",
       "6   20240408-152816.726683(132.59,-1.38,10382.0).jpg  JJ89C    NW\n",
       "7    20240408-153023.711880(167.64,-5.87,8263.0).jpg  JE24X    NW\n",
       "8   20240408-153158.880806(100.81,-19.02,3832.0).jpg  J808V    NW\n",
       "9          20240408-154814(-173.23,-5.81,8512.0).jpg  JE25X    NW"
      ]
     },
     "execution_count": 62,
     "metadata": {},
     "output_type": "execute_result"
    }
   ],
   "source": [
    "# Local paths\n",
    "\n",
    "label_path = \"dataset/datasets/rf/ringcodes.csv\"\n",
    "\n",
    "# Make sure to separate csv file on |\n",
    "df = pd.read_csv(label_path, sep=\"|\")\n",
    "\n",
    "df.head(10)"
   ]
  },
  {
   "cell_type": "code",
   "execution_count": 63,
   "id": "d8f26995",
   "metadata": {},
   "outputs": [
    {
     "data": {
      "text/html": [
       "<div>\n",
       "<style scoped>\n",
       "    .dataframe tbody tr th:only-of-type {\n",
       "        vertical-align: middle;\n",
       "    }\n",
       "\n",
       "    .dataframe tbody tr th {\n",
       "        vertical-align: top;\n",
       "    }\n",
       "\n",
       "    .dataframe thead th {\n",
       "        text-align: right;\n",
       "    }\n",
       "</style>\n",
       "<table border=\"1\" class=\"dataframe\">\n",
       "  <thead>\n",
       "    <tr style=\"text-align: right;\">\n",
       "      <th></th>\n",
       "      <th>filename</th>\n",
       "      <th>code</th>\n",
       "      <th>color</th>\n",
       "    </tr>\n",
       "  </thead>\n",
       "  <tbody>\n",
       "    <tr>\n",
       "      <th>0</th>\n",
       "      <td>20240408-145102.064779(162.29,-4.57,9209.0).jpg</td>\n",
       "      <td>JE24X</td>\n",
       "      <td>NW</td>\n",
       "    </tr>\n",
       "    <tr>\n",
       "      <th>1</th>\n",
       "      <td>20240408-145142.722154(103.96,-3.69,10150.0).jpg</td>\n",
       "      <td>JJ94C</td>\n",
       "      <td>NW</td>\n",
       "    </tr>\n",
       "    <tr>\n",
       "      <th>2</th>\n",
       "      <td>20240408-145459.652977(162.36,-4.64,7886.0).jpg</td>\n",
       "      <td>JE24X</td>\n",
       "      <td>NW</td>\n",
       "    </tr>\n",
       "    <tr>\n",
       "      <th>3</th>\n",
       "      <td>20240408-145544.814361(93.19,-3.36,10055.0).jpg</td>\n",
       "      <td>JJ94C</td>\n",
       "      <td>NW</td>\n",
       "    </tr>\n",
       "    <tr>\n",
       "      <th>4</th>\n",
       "      <td>20240408-145602.037977(80.53,-3.07,10338.0).jpg</td>\n",
       "      <td>JE94C</td>\n",
       "      <td>NW</td>\n",
       "    </tr>\n",
       "    <tr>\n",
       "      <th>5</th>\n",
       "      <td>20240408-152700.065700(-163.15,-3.84,10636.0).jpg</td>\n",
       "      <td>J194V</td>\n",
       "      <td>NW</td>\n",
       "    </tr>\n",
       "    <tr>\n",
       "      <th>6</th>\n",
       "      <td>20240408-152816.726683(132.59,-1.38,10382.0).jpg</td>\n",
       "      <td>JJ89C</td>\n",
       "      <td>NW</td>\n",
       "    </tr>\n",
       "    <tr>\n",
       "      <th>7</th>\n",
       "      <td>20240408-153023.711880(167.64,-5.87,8263.0).jpg</td>\n",
       "      <td>JE24X</td>\n",
       "      <td>NW</td>\n",
       "    </tr>\n",
       "    <tr>\n",
       "      <th>8</th>\n",
       "      <td>20240408-153158.880806(100.81,-19.02,3832.0).jpg</td>\n",
       "      <td>J808V</td>\n",
       "      <td>NW</td>\n",
       "    </tr>\n",
       "    <tr>\n",
       "      <th>9</th>\n",
       "      <td>20240408-154814(-173.23,-5.81,8512.0).jpg</td>\n",
       "      <td>JE25X</td>\n",
       "      <td>NW</td>\n",
       "    </tr>\n",
       "  </tbody>\n",
       "</table>\n",
       "</div>"
      ],
      "text/plain": [
       "                                            filename   code color\n",
       "0    20240408-145102.064779(162.29,-4.57,9209.0).jpg  JE24X    NW\n",
       "1   20240408-145142.722154(103.96,-3.69,10150.0).jpg  JJ94C    NW\n",
       "2    20240408-145459.652977(162.36,-4.64,7886.0).jpg  JE24X    NW\n",
       "3    20240408-145544.814361(93.19,-3.36,10055.0).jpg  JJ94C    NW\n",
       "4    20240408-145602.037977(80.53,-3.07,10338.0).jpg  JE94C    NW\n",
       "5  20240408-152700.065700(-163.15,-3.84,10636.0).jpg  J194V    NW\n",
       "6   20240408-152816.726683(132.59,-1.38,10382.0).jpg  JJ89C    NW\n",
       "7    20240408-153023.711880(167.64,-5.87,8263.0).jpg  JE24X    NW\n",
       "8   20240408-153158.880806(100.81,-19.02,3832.0).jpg  J808V    NW\n",
       "9          20240408-154814(-173.23,-5.81,8512.0).jpg  JE25X    NW"
      ]
     },
     "execution_count": 63,
     "metadata": {},
     "output_type": "execute_result"
    }
   ],
   "source": [
    "\n",
    "dl = df.sort_values(\"filename\", ascending=True).reset_index(drop=True)\n",
    "dl.head(10)\n",
    "# exp_labels = dl[[\"code\", \"color\"]]\n",
    "# exp_labels.head()\n"
   ]
  },
  {
   "cell_type": "code",
   "execution_count": 64,
   "id": "a2b2f4a1",
   "metadata": {},
   "outputs": [],
   "source": [
    "class ExpDataSet(Dataset):\n",
    "    def __init__(self, img_path:str, labels_path:str, transform=None, max_n=None):\n",
    "        self.img_path = img_path\n",
    "        self.transform = transform\n",
    "        self.max_n = max_n\n",
    "\n",
    "        # Retrieve labels and sort them in alphabetical order to match the images\n",
    "        df = pd.read_csv(labels_path, sep=\"|\")\n",
    "        df = df.sort_values(\"filename\", ascending=True).reset_index(drop=True)\n",
    "\n",
    "        # Ensure the data contains the chosen amount of elements\n",
    "        if max_n is not None:\n",
    "            df = df[:self.max_n]\n",
    "        \n",
    "        # Retrieve images from folder and match them with labels\n",
    "        self.img_paths = df[\"filename\"].apply(lambda e: os.path.join(img_path, e)).to_list()\n",
    "\n",
    "        self.labels = list(df[[\"code\",\"color\"]].itertuples(index=False, name=None)) # Labels should be a list of tuples\n",
    "        \n",
    "    def __len__(self):\n",
    "        return len(self.img_paths)\n",
    "\n",
    "    def __getitem__(self, idx):\n",
    "        label = self.labels[idx]\n",
    "        image = Image.open(self.img_paths[idx]).convert('RGB')\n",
    "\n",
    "        if self.transform: # Add transformation mask to image\n",
    "            image = self.transform(image)\n",
    "        \n",
    "        return image, label"
   ]
  },
  {
   "cell_type": "code",
   "execution_count": 106,
   "id": "701cb823",
   "metadata": {},
   "outputs": [],
   "source": [
    "image_path = \"dataset/datasets/rf/images\"\n",
    "max_n = 10\n",
    "transform = T.Compose([\n",
    "    #T.Resize((224,224)),\n",
    "    T.ToTensor()\n",
    "])\n",
    "exp_dataset = ExpDataSet(img_path=image_path, labels_path=label_path, transform=transform, max_n=max_n)\n"
   ]
  },
  {
   "cell_type": "code",
   "execution_count": 107,
   "id": "ab310a41",
   "metadata": {},
   "outputs": [],
   "source": [
    "\n",
    "exp_loader = DataLoader(dataset=exp_dataset, batch_size=64, shuffle=True)\n",
    "\n",
    "def tensor_to_numpy(img_tensor):\n",
    "    img_np = img_tensor.detach().cpu()\n",
    "    # img_np = img_np.permute(0, 2, 3, 1).numpy()\n",
    "    img_np = img_np.permute(1, 2, 0).numpy()\n",
    "    #img_np= (img_np* 255).clip(0, 255).astype('uint8')\n",
    "    return img_np"
   ]
  },
  {
   "cell_type": "code",
   "execution_count": 72,
   "id": "aa415b28",
   "metadata": {},
   "outputs": [
    {
     "name": "stderr",
     "output_type": "stream",
     "text": [
      "\u001b[32mCreating model: ('PP-LCNet_x1_0_doc_ori', None)\u001b[0m\n",
      "\u001b[32mUsing official model (PP-LCNet_x1_0_doc_ori), the model files will be automatically downloaded and saved in C:\\Users\\legom\\.paddlex\\official_models.\u001b[0m\n",
      "Fetching 6 files: 100%|██████████| 6/6 [00:00<00:00,  8.98it/s]\n",
      "\u001b[32mCreating model: ('UVDoc', None)\u001b[0m\n",
      "\u001b[32mUsing official model (UVDoc), the model files will be automatically downloaded and saved in C:\\Users\\legom\\.paddlex\\official_models.\u001b[0m\n",
      "Fetching 6 files: 100%|██████████| 6/6 [00:00<00:00, 2053.18it/s]\n",
      "\u001b[32mCreating model: ('PP-LCNet_x1_0_textline_ori', None)\u001b[0m\n",
      "\u001b[32mUsing official model (PP-LCNet_x1_0_textline_ori), the model files will be automatically downloaded and saved in C:\\Users\\legom\\.paddlex\\official_models.\u001b[0m\n",
      "\u001b[32mCreating model: ('PP-OCRv5_server_det', None)\u001b[0m\n",
      "\u001b[32mUsing official model (PP-OCRv5_server_det), the model files will be automatically downloaded and saved in C:\\Users\\legom\\.paddlex\\official_models.\u001b[0m\n",
      "Fetching 6 files: 100%|██████████| 6/6 [00:00<00:00, 2160.71it/s]\n",
      "\u001b[32mCreating model: ('PP-OCRv5_server_rec', None)\u001b[0m\n",
      "\u001b[32mUsing official model (PP-OCRv5_server_rec), the model files will be automatically downloaded and saved in C:\\Users\\legom\\.paddlex\\official_models.\u001b[0m\n",
      "Fetching 6 files: 100%|██████████| 6/6 [00:00<00:00, 2457.12it/s]\n"
     ]
    }
   ],
   "source": [
    "from paddleocr import PaddleOCR as POCR\n",
    "\n",
    "ocr = POCR(use_doc_orientation_classify=True, use_doc_unwarping=True, use_textline_orientation=True)\n"
   ]
  },
  {
   "cell_type": "code",
   "execution_count": null,
   "id": "09244000",
   "metadata": {},
   "outputs": [],
   "source": [
    "results = []\n",
    "for images, labels in exp_loader:\n",
    "    images = tensor_to_numpy(images)\n",
    "    for image in images:\n",
    "        result = ocr.predict(image)\n",
    "        results.append(result)"
   ]
  },
  {
   "cell_type": "code",
   "execution_count": null,
   "id": "37fc5bfd",
   "metadata": {},
   "outputs": [
    {
     "name": "stdout",
     "output_type": "stream",
     "text": [
      "10\n"
     ]
    },
    {
     "ename": "AttributeError",
     "evalue": "'list' object has no attribute 'print'",
     "output_type": "error",
     "traceback": [
      "\u001b[1;31m---------------------------------------------------------------------------\u001b[0m",
      "\u001b[1;31mAttributeError\u001b[0m                            Traceback (most recent call last)",
      "Cell \u001b[1;32mIn[84], line 3\u001b[0m\n\u001b[0;32m      1\u001b[0m \u001b[38;5;28mprint\u001b[39m(\u001b[38;5;28mlen\u001b[39m(results))\n\u001b[0;32m      2\u001b[0m \u001b[38;5;28;01mfor\u001b[39;00m i \u001b[38;5;129;01min\u001b[39;00m \u001b[38;5;28mrange\u001b[39m(\u001b[38;5;241m0\u001b[39m, \u001b[38;5;28mlen\u001b[39m(results)):\n\u001b[1;32m----> 3\u001b[0m     \u001b[43mresults\u001b[49m\u001b[43m[\u001b[49m\u001b[43mi\u001b[49m\u001b[43m]\u001b[49m\u001b[38;5;241;43m.\u001b[39;49m\u001b[43mprint\u001b[49m()\n",
      "\u001b[1;31mAttributeError\u001b[0m: 'list' object has no attribute 'print'"
     ]
    }
   ],
   "source": [
    "print(len(results))\n",
    "for i in range(0, len(results)):\n",
    "    #results[i].print()\n",
    "\n",
    "\n"
   ]
  },
  {
   "cell_type": "code",
   "execution_count": null,
   "id": "67abafba",
   "metadata": {},
   "outputs": [
    {
     "name": "stderr",
     "output_type": "stream",
     "text": [
      "\u001b[32m{'res': {'input_path': None, 'page_index': None, 'model_settings': {'use_doc_preprocessor': True, 'use_textline_orientation': True}, 'doc_preprocessor_res': {'input_path': None, 'page_index': None, 'model_settings': {'use_doc_orientation_classify': True, 'use_doc_unwarping': True}, 'angle': 0}, 'dt_polys': array([[[1035,  103],\n",
      "        ...,\n",
      "        [1031,  188]],\n",
      "\n",
      "       ...,\n",
      "\n",
      "       [[  58,  192],\n",
      "        ...,\n",
      "        [  58,  351]]], shape=(3, 4, 2), dtype=int16), 'text_det_params': {'limit_side_len': 64, 'limit_type': 'min', 'thresh': 0.3, 'max_side_limit': 4000, 'box_thresh': 0.6, 'unclip_ratio': 1.5}, 'text_type': 'general', 'textline_orientation_angles': array([0, ..., 0], shape=(3,)), 'text_rec_score_thresh': 0.0, 'rec_texts': ['DR', 'Name', 'Street'], 'rec_scores': array([0.99681139, ..., 0.99957991], shape=(3,)), 'rec_polys': array([[[1035,  103],\n",
      "        ...,\n",
      "        [1031,  188]],\n",
      "\n",
      "       ...,\n",
      "\n",
      "       [[  58,  192],\n",
      "        ...,\n",
      "        [  58,  351]]], shape=(3, 4, 2), dtype=int16), 'rec_boxes': array([[1031, ...,  192],\n",
      "       ...,\n",
      "       [  58, ...,  351]], shape=(3, 4), dtype=int16)}}\u001b[0m\n"
     ]
    }
   ],
   "source": [
    "# Sanity check\n",
    "image = Image.open(\"other/sign.jpg\").convert('RGB')\n",
    "func = T.PILToTensor()\n",
    "image = func(image)\n",
    "image = tensor_to_numpy(image)\n",
    "result = ocr.predict(image)\n",
    "result[0].print()"
   ]
  },
  {
   "cell_type": "code",
   "execution_count": null,
   "id": "bdb1a3f6",
   "metadata": {},
   "outputs": [],
   "source": []
  },
  {
   "cell_type": "code",
   "execution_count": null,
   "id": "4191811f",
   "metadata": {},
   "outputs": [],
   "source": []
  }
 ],
 "metadata": {
  "kernelspec": {
   "display_name": "birdword",
   "language": "python",
   "name": "python3"
  },
  "language_info": {
   "codemirror_mode": {
    "name": "ipython",
    "version": 3
   },
   "file_extension": ".py",
   "mimetype": "text/x-python",
   "name": "python",
   "nbconvert_exporter": "python",
   "pygments_lexer": "ipython3",
   "version": "3.13.5"
  }
 },
 "nbformat": 4,
 "nbformat_minor": 5
}
