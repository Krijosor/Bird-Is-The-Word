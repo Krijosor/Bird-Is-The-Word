{
 "cells": [
  {
   "cell_type": "markdown",
   "id": "a667ce85",
   "metadata": {},
   "source": [
    "### Test of data instantiation"
   ]
  },
  {
   "cell_type": "code",
   "execution_count": 5,
   "id": "21443577",
   "metadata": {},
   "outputs": [],
   "source": [
    "import torch\n",
    "import numpy\n",
    "from torch.utils.data import Dataset, DataLoader \n",
    "from torchvision.datasets import ImageFolder\n",
    "import torchvision.transforms as T\n",
    "import pandas as pd\n",
    "from PIL import Image\n",
    "import os\n",
    "from src import BWDatasets"
   ]
  },
  {
   "cell_type": "code",
   "execution_count": 6,
   "id": "701cb823",
   "metadata": {},
   "outputs": [],
   "source": [
    "label_path = \"dataset/datasets/rf/ringcodes.csv\"\n",
    "image_path = \"dataset/datasets/rf/images\"\n",
    "max_n = 10\n",
    "transform = T.Compose([\n",
    "    #T.Resize((224,224)),\n",
    "    T.ToTensor()\n",
    "])\n",
    "exp_dataset = BWDatasets.TrainDataSet(img_path=image_path, labels_path=label_path, transform=transform, max_n=max_n)\n"
   ]
  },
  {
   "cell_type": "code",
   "execution_count": null,
   "id": "ab310a41",
   "metadata": {},
   "outputs": [],
   "source": [
    "\n",
    "exp_loader = DataLoader(dataset=exp_dataset, batch_size=64, shuffle=True)\n"
   ]
  },
  {
   "cell_type": "code",
   "execution_count": 15,
   "id": "aa415b28",
   "metadata": {},
   "outputs": [
    {
     "name": "stderr",
     "output_type": "stream",
     "text": [
      "\u001b[32mCreating model: ('PP-LCNet_x1_0_doc_ori', None)\u001b[0m\n",
      "\u001b[32mUsing official model (PP-LCNet_x1_0_doc_ori), the model files will be automatically downloaded and saved in C:\\Users\\legom\\.paddlex\\official_models.\u001b[0m\n",
      "\u001b[32mCreating model: ('UVDoc', None)\u001b[0m\n",
      "\u001b[32mUsing official model (UVDoc), the model files will be automatically downloaded and saved in C:\\Users\\legom\\.paddlex\\official_models.\u001b[0m\n",
      "Fetching 6 files: 100%|██████████| 6/6 [00:00<00:00, 1053.67it/s]\n",
      "\u001b[32mCreating model: ('PP-LCNet_x1_0_textline_ori', None)\u001b[0m\n",
      "\u001b[32mUsing official model (PP-LCNet_x1_0_textline_ori), the model files will be automatically downloaded and saved in C:\\Users\\legom\\.paddlex\\official_models.\u001b[0m\n",
      "\u001b[32mCreating model: ('PP-OCRv5_server_det', None)\u001b[0m\n",
      "\u001b[32mUsing official model (PP-OCRv5_server_det), the model files will be automatically downloaded and saved in C:\\Users\\legom\\.paddlex\\official_models.\u001b[0m\n",
      "Fetching 6 files: 100%|██████████| 6/6 [00:00<00:00, 1858.35it/s]\n",
      "\u001b[32mCreating model: ('PP-OCRv5_server_rec', None)\u001b[0m\n",
      "\u001b[32mUsing official model (PP-OCRv5_server_rec), the model files will be automatically downloaded and saved in C:\\Users\\legom\\.paddlex\\official_models.\u001b[0m\n",
      "Fetching 6 files: 100%|██████████| 6/6 [00:00<00:00, 3355.89it/s]\n"
     ]
    }
   ],
   "source": [
    "from paddleocr import PaddleOCR as POCR\n",
    "\n",
    "ocr = POCR(lang=\"en\", use_doc_orientation_classify=True, use_doc_unwarping=True, use_textline_orientation=True)\n"
   ]
  },
  {
   "cell_type": "code",
   "execution_count": 32,
   "id": "39140e42",
   "metadata": {},
   "outputs": [],
   "source": [
    "images = []\n",
    "images.append(BWDatasets.open_image(filepath=\"other/sign1.jpg\"))\n",
    "images.append(BWDatasets.open_image(filepath=\"other/sign2.jpg\"))\n",
    "images.append(BWDatasets.open_image(filepath=\"other/sign3.jpg\"))\n",
    "images.append(BWDatasets.open_image(filepath=\"other/sign4.jpg\"))\n"
   ]
  },
  {
   "cell_type": "code",
   "execution_count": 35,
   "id": "bdb1a3f6",
   "metadata": {},
   "outputs": [],
   "source": [
    "def prediction(image):\n",
    "    result = ocr.predict(image)\n",
    "    for res in result:\n",
    "        res.print()\n",
    "        print(res[\"rec_texts\"])"
   ]
  },
  {
   "cell_type": "code",
   "execution_count": 36,
   "id": "4191811f",
   "metadata": {},
   "outputs": [
    {
     "name": "stderr",
     "output_type": "stream",
     "text": [
      "\u001b[32m{'res': {'input_path': None, 'page_index': None, 'model_settings': {'use_doc_preprocessor': True, 'use_textline_orientation': True}, 'doc_preprocessor_res': {'input_path': None, 'page_index': None, 'model_settings': {'use_doc_orientation_classify': True, 'use_doc_unwarping': True}, 'angle': 0}, 'dt_polys': array([[[494, 343],\n",
      "        ...,\n",
      "        [495, 413]],\n",
      "\n",
      "       ...,\n",
      "\n",
      "       [[301, 354],\n",
      "        ...,\n",
      "        [304, 423]]], shape=(3, 4, 2), dtype=int16), 'text_det_params': {'limit_side_len': 64, 'limit_type': 'min', 'thresh': 0.3, 'max_side_limit': 4000, 'box_thresh': 0.6, 'unclip_ratio': 1.5}, 'text_type': 'general', 'textline_orientation_angles': array([0, ..., 0], shape=(3,)), 'text_rec_score_thresh': 0.0, 'rec_texts': ['HERE', 'YOUR', 'TEXT'], 'rec_scores': array([0.99344009, ..., 0.99291158], shape=(3,)), 'rec_polys': array([[[494, 343],\n",
      "        ...,\n",
      "        [495, 413]],\n",
      "\n",
      "       ...,\n",
      "\n",
      "       [[301, 354],\n",
      "        ...,\n",
      "        [304, 423]]], shape=(3, 4, 2), dtype=int16), 'rec_boxes': array([[494, ..., 413],\n",
      "       ...,\n",
      "       [301, ..., 423]], shape=(3, 4), dtype=int16)}}\u001b[0m\n",
      "\u001b[32m{'res': {'input_path': None, 'page_index': None, 'model_settings': {'use_doc_preprocessor': True, 'use_textline_orientation': True}, 'doc_preprocessor_res': {'input_path': None, 'page_index': None, 'model_settings': {'use_doc_orientation_classify': True, 'use_doc_unwarping': True}, 'angle': 270}, 'dt_polys': array([[[523, 317],\n",
      "        ...,\n",
      "        [526, 383]],\n",
      "\n",
      "       ...,\n",
      "\n",
      "       [[162, 352],\n",
      "        ...,\n",
      "        [168, 417]]], shape=(3, 4, 2), dtype=int16), 'text_det_params': {'limit_side_len': 64, 'limit_type': 'min', 'thresh': 0.3, 'max_side_limit': 4000, 'box_thresh': 0.6, 'unclip_ratio': 1.5}, 'text_type': 'general', 'textline_orientation_angles': array([0, ..., 0], shape=(3,)), 'text_rec_score_thresh': 0.0, 'rec_texts': ['HERE', 'TEXT', 'YOUR'], 'rec_scores': array([0.99417645, ..., 0.97924733], shape=(3,)), 'rec_polys': array([[[523, 317],\n",
      "        ...,\n",
      "        [526, 383]],\n",
      "\n",
      "       ...,\n",
      "\n",
      "       [[162, 352],\n",
      "        ...,\n",
      "        [168, 417]]], shape=(3, 4, 2), dtype=int16), 'rec_boxes': array([[523, ..., 383],\n",
      "       ...,\n",
      "       [162, ..., 417]], shape=(3, 4), dtype=int16)}}\u001b[0m\n",
      "\u001b[32m{'res': {'input_path': None, 'page_index': None, 'model_settings': {'use_doc_preprocessor': True, 'use_textline_orientation': True}, 'doc_preprocessor_res': {'input_path': None, 'page_index': None, 'model_settings': {'use_doc_orientation_classify': True, 'use_doc_unwarping': True}, 'angle': 90}, 'dt_polys': array([[[492, 340],\n",
      "        ...,\n",
      "        [494, 415]],\n",
      "\n",
      "       ...,\n",
      "\n",
      "       [[ 99, 363],\n",
      "        ...,\n",
      "        [101, 430]]], shape=(3, 4, 2), dtype=int16), 'text_det_params': {'limit_side_len': 64, 'limit_type': 'min', 'thresh': 0.3, 'max_side_limit': 4000, 'box_thresh': 0.6, 'unclip_ratio': 1.5}, 'text_type': 'general', 'textline_orientation_angles': array([0, ..., 0], shape=(3,)), 'text_rec_score_thresh': 0.0, 'rec_texts': ['HERE', 'TEXTH', 'YOUR'], 'rec_scores': array([0.9945392 , ..., 0.97679877], shape=(3,)), 'rec_polys': array([[[492, 340],\n",
      "        ...,\n",
      "        [494, 415]],\n",
      "\n",
      "       ...,\n",
      "\n",
      "       [[ 99, 363],\n",
      "        ...,\n",
      "        [101, 430]]], shape=(3, 4, 2), dtype=int16), 'rec_boxes': array([[492, ..., 415],\n",
      "       ...,\n",
      "       [ 99, ..., 430]], shape=(3, 4), dtype=int16)}}\u001b[0m\n"
     ]
    },
    {
     "name": "stdout",
     "output_type": "stream",
     "text": [
      "['HERE', 'YOUR', 'TEXT']\n",
      "['HERE', 'TEXT', 'YOUR']\n",
      "['HERE', 'TEXTH', 'YOUR']\n"
     ]
    },
    {
     "name": "stderr",
     "output_type": "stream",
     "text": [
      "\u001b[32m{'res': {'input_path': None, 'page_index': None, 'model_settings': {'use_doc_preprocessor': True, 'use_textline_orientation': True}, 'doc_preprocessor_res': {'input_path': None, 'page_index': None, 'model_settings': {'use_doc_orientation_classify': True, 'use_doc_unwarping': True}, 'angle': 270}, 'dt_polys': array([[[523, 317],\n",
      "        ...,\n",
      "        [526, 383]],\n",
      "\n",
      "       ...,\n",
      "\n",
      "       [[162, 352],\n",
      "        ...,\n",
      "        [168, 417]]], shape=(3, 4, 2), dtype=int16), 'text_det_params': {'limit_side_len': 64, 'limit_type': 'min', 'thresh': 0.3, 'max_side_limit': 4000, 'box_thresh': 0.6, 'unclip_ratio': 1.5}, 'text_type': 'general', 'textline_orientation_angles': array([0, ..., 0], shape=(3,)), 'text_rec_score_thresh': 0.0, 'rec_texts': ['HERE', 'TEXT', 'YOUR'], 'rec_scores': array([0.99417645, ..., 0.97924733], shape=(3,)), 'rec_polys': array([[[523, 317],\n",
      "        ...,\n",
      "        [526, 383]],\n",
      "\n",
      "       ...,\n",
      "\n",
      "       [[162, 352],\n",
      "        ...,\n",
      "        [168, 417]]], shape=(3, 4, 2), dtype=int16), 'rec_boxes': array([[523, ..., 383],\n",
      "       ...,\n",
      "       [162, ..., 417]], shape=(3, 4), dtype=int16)}}\u001b[0m\n"
     ]
    },
    {
     "name": "stdout",
     "output_type": "stream",
     "text": [
      "['HERE', 'TEXT', 'YOUR']\n"
     ]
    }
   ],
   "source": [
    "for image in images:\n",
    "    prediction(image)\n"
   ]
  },
  {
   "cell_type": "code",
   "execution_count": null,
   "id": "d4e4f95f",
   "metadata": {},
   "outputs": [],
   "source": []
  },
  {
   "cell_type": "code",
   "execution_count": null,
   "id": "4d8c51f4",
   "metadata": {},
   "outputs": [],
   "source": []
  },
  {
   "cell_type": "code",
   "execution_count": null,
   "id": "1d954f08",
   "metadata": {},
   "outputs": [],
   "source": []
  }
 ],
 "metadata": {
  "kernelspec": {
   "display_name": "birdword",
   "language": "python",
   "name": "python3"
  },
  "language_info": {
   "codemirror_mode": {
    "name": "ipython",
    "version": 3
   },
   "file_extension": ".py",
   "mimetype": "text/x-python",
   "name": "python",
   "nbconvert_exporter": "python",
   "pygments_lexer": "ipython3",
   "version": "3.13.5"
  }
 },
 "nbformat": 4,
 "nbformat_minor": 5
}
