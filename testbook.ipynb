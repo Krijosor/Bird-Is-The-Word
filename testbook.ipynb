{
 "cells": [
  {
   "cell_type": "markdown",
   "id": "a667ce85",
   "metadata": {},
   "source": [
    "### Test of data instantiation"
   ]
  },
  {
   "cell_type": "code",
   "execution_count": null,
   "id": "21443577",
   "metadata": {},
   "outputs": [],
   "source": [
    "import torch\n",
    "import numpy\n",
    "from torch.utils.data import Dataset, DataLoader\n",
    "\n"
   ]
  },
  {
   "cell_type": "code",
   "execution_count": null,
   "id": "3dc3d94a",
   "metadata": {},
   "outputs": [
    {
     "name": "stdout",
     "output_type": "stream",
     "text": [
      "(tensor([1., 1., 1.]), tensor([0]))\n"
     ]
    }
   ],
   "source": [
    "\n",
    "class TestDataLoader(Dataset):\n",
    "    def __init__(self, images, labels, transform=None):\n",
    "        self.images = torch.as_tensor(images)\n",
    "        self.labels = torch.as_tensor(labels)\n",
    "        self.transform = transform\n",
    "        \n",
    "    def __len__(self):\n",
    "        return len(self.images)\n",
    "\n",
    "    def __getitem__(self, idx):\n",
    "        label = self.labels[idx]\n",
    "        image = self.images[idx]\n",
    "\n",
    "        if self.transform: # Add transformation mask to image\n",
    "            image = self.transform(image)\n",
    "        \n",
    "        return image, label\n",
    "        \n",
    "img = torch.ones(6, 3)\n",
    "labels = [0, 1, 1, 1, 0, 0]\n",
    "\n",
    "loader = TestDataLoader(img, labels)\n",
    "print(loader[4])\n",
    "\n"
   ]
  },
  {
   "cell_type": "code",
   "execution_count": null,
   "id": "9f3d42eb",
   "metadata": {},
   "outputs": [],
   "source": [
    "\n",
    "\n",
    "\n",
    "\n",
    "\n",
    "\n",
    "\n"
   ]
  },
  {
   "cell_type": "code",
   "execution_count": null,
   "id": "ab159b02",
   "metadata": {},
   "outputs": [],
   "source": []
  },
  {
   "cell_type": "code",
   "execution_count": null,
   "id": "a2b2f4a1",
   "metadata": {},
   "outputs": [],
   "source": []
  },
  {
   "cell_type": "code",
   "execution_count": null,
   "id": "701cb823",
   "metadata": {},
   "outputs": [],
   "source": []
  }
 ],
 "metadata": {
  "kernelspec": {
   "display_name": "birdword",
   "language": "python",
   "name": "python3"
  },
  "language_info": {
   "codemirror_mode": {
    "name": "ipython",
    "version": 3
   },
   "file_extension": ".py",
   "mimetype": "text/x-python",
   "name": "python",
   "nbconvert_exporter": "python",
   "pygments_lexer": "ipython3",
   "version": "3.13.5"
  }
 },
 "nbformat": 4,
 "nbformat_minor": 5
}
