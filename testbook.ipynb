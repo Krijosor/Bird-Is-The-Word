{
 "cells": [
  {
   "cell_type": "markdown",
   "id": "a667ce85",
   "metadata": {},
   "source": [
    "### Test of data instantiation"
   ]
  },
  {
   "cell_type": "code",
   "execution_count": 1,
   "id": "21443577",
   "metadata": {},
   "outputs": [],
   "source": [
    "import torch\n",
    "import numpy\n",
    "from torch.utils.data import Dataset, DataLoader \n",
    "from torchvision.datasets import ImageFolder\n",
    "import pandas as pd\n",
    "from PIL import Image\n",
    "import os\n"
   ]
  },
  {
   "cell_type": "code",
   "execution_count": 2,
   "id": "3dc3d94a",
   "metadata": {},
   "outputs": [],
   "source": [
    "\n",
    "        \n",
    "# img = torch.ones(6, 3)\n",
    "# labels = [0, 1, 1, 1, 0, 0]\n",
    "\n",
    "# dataset = ExpDataSet(img, labels)\n",
    "# print(dataset[4])\n",
    "\n"
   ]
  },
  {
   "cell_type": "code",
   "execution_count": 15,
   "id": "9f3d42eb",
   "metadata": {},
   "outputs": [
    {
     "data": {
      "text/html": [
       "<div>\n",
       "<style scoped>\n",
       "    .dataframe tbody tr th:only-of-type {\n",
       "        vertical-align: middle;\n",
       "    }\n",
       "\n",
       "    .dataframe tbody tr th {\n",
       "        vertical-align: top;\n",
       "    }\n",
       "\n",
       "    .dataframe thead th {\n",
       "        text-align: right;\n",
       "    }\n",
       "</style>\n",
       "<table border=\"1\" class=\"dataframe\">\n",
       "  <thead>\n",
       "    <tr style=\"text-align: right;\">\n",
       "      <th></th>\n",
       "      <th>filename</th>\n",
       "      <th>code</th>\n",
       "      <th>color</th>\n",
       "    </tr>\n",
       "  </thead>\n",
       "  <tbody>\n",
       "    <tr>\n",
       "      <th>0</th>\n",
       "      <td>LBNW(J22M)_20080310234907_79.jpg</td>\n",
       "      <td>J22M</td>\n",
       "      <td>NW</td>\n",
       "    </tr>\n",
       "    <tr>\n",
       "      <th>1</th>\n",
       "      <td>LBNW(J03Y)_20080311094828_79.jpg</td>\n",
       "      <td>J03Y</td>\n",
       "      <td>NW</td>\n",
       "    </tr>\n",
       "    <tr>\n",
       "      <th>2</th>\n",
       "      <td>LBBW(JR0T)_20080320193604_79.jpg</td>\n",
       "      <td>JR0T</td>\n",
       "      <td>BW</td>\n",
       "    </tr>\n",
       "    <tr>\n",
       "      <th>3</th>\n",
       "      <td>LBBW(J1EM)_20080321135128_79.jpg</td>\n",
       "      <td>J1EM</td>\n",
       "      <td>BW</td>\n",
       "    </tr>\n",
       "    <tr>\n",
       "      <th>4</th>\n",
       "      <td>LBBW(JZ3K)_20111027125715_79.jpg</td>\n",
       "      <td>JZ3K</td>\n",
       "      <td>BW</td>\n",
       "    </tr>\n",
       "    <tr>\n",
       "      <th>5</th>\n",
       "      <td>LBBW(JT0G)_20141104000055_79.jpg</td>\n",
       "      <td>JT0G</td>\n",
       "      <td>BW</td>\n",
       "    </tr>\n",
       "    <tr>\n",
       "      <th>6</th>\n",
       "      <td>LBPN(J512)_20090309004214_79.jpg</td>\n",
       "      <td>J512</td>\n",
       "      <td>PN</td>\n",
       "    </tr>\n",
       "    <tr>\n",
       "      <th>7</th>\n",
       "      <td>LBBW(J9EE)_20101214162613_79.jpg</td>\n",
       "      <td>J9EE</td>\n",
       "      <td>BW</td>\n",
       "    </tr>\n",
       "    <tr>\n",
       "      <th>8</th>\n",
       "      <td>LBBW(J9EE)_20101214162645_79.jpg</td>\n",
       "      <td>J9EE</td>\n",
       "      <td>BW</td>\n",
       "    </tr>\n",
       "    <tr>\n",
       "      <th>9</th>\n",
       "      <td>LBBW(J00X)_20090309175308_79.jpg</td>\n",
       "      <td>J00X</td>\n",
       "      <td>BW</td>\n",
       "    </tr>\n",
       "  </tbody>\n",
       "</table>\n",
       "</div>"
      ],
      "text/plain": [
       "                           filename  code color\n",
       "0  LBNW(J22M)_20080310234907_79.jpg  J22M    NW\n",
       "1  LBNW(J03Y)_20080311094828_79.jpg  J03Y    NW\n",
       "2  LBBW(JR0T)_20080320193604_79.jpg  JR0T    BW\n",
       "3  LBBW(J1EM)_20080321135128_79.jpg  J1EM    BW\n",
       "4  LBBW(JZ3K)_20111027125715_79.jpg  JZ3K    BW\n",
       "5  LBBW(JT0G)_20141104000055_79.jpg  JT0G    BW\n",
       "6  LBPN(J512)_20090309004214_79.jpg  J512    PN\n",
       "7  LBBW(J9EE)_20101214162613_79.jpg  J9EE    BW\n",
       "8  LBBW(J9EE)_20101214162645_79.jpg  J9EE    BW\n",
       "9  LBBW(J00X)_20090309175308_79.jpg  J00X    BW"
      ]
     },
     "execution_count": 15,
     "metadata": {},
     "output_type": "execute_result"
    }
   ],
   "source": [
    "# Local paths\n",
    "\n",
    "label_path = \"dataset/datasets/ringmerkingno/ringcodes.csv\"\n",
    "\n",
    "# Make sure to separate csv file on |\n",
    "df = pd.read_csv(label_path, sep=\"|\")\n",
    "\n",
    "df.head(10)"
   ]
  },
  {
   "cell_type": "code",
   "execution_count": null,
   "id": "d8f26995",
   "metadata": {},
   "outputs": [
    {
     "data": {
      "text/html": [
       "<div>\n",
       "<style scoped>\n",
       "    .dataframe tbody tr th:only-of-type {\n",
       "        vertical-align: middle;\n",
       "    }\n",
       "\n",
       "    .dataframe tbody tr th {\n",
       "        vertical-align: top;\n",
       "    }\n",
       "\n",
       "    .dataframe thead th {\n",
       "        text-align: right;\n",
       "    }\n",
       "</style>\n",
       "<table border=\"1\" class=\"dataframe\">\n",
       "  <thead>\n",
       "    <tr style=\"text-align: right;\">\n",
       "      <th></th>\n",
       "      <th>code</th>\n",
       "      <th>color</th>\n",
       "    </tr>\n",
       "  </thead>\n",
       "  <tbody>\n",
       "    <tr>\n",
       "      <th>0</th>\n",
       "      <td>WT</td>\n",
       "      <td>BW</td>\n",
       "    </tr>\n",
       "    <tr>\n",
       "      <th>1</th>\n",
       "      <td>J0K8</td>\n",
       "      <td>WN</td>\n",
       "    </tr>\n",
       "    <tr>\n",
       "      <th>2</th>\n",
       "      <td>J0K8</td>\n",
       "      <td>WN</td>\n",
       "    </tr>\n",
       "    <tr>\n",
       "      <th>3</th>\n",
       "      <td>JA0H</td>\n",
       "      <td>WN</td>\n",
       "    </tr>\n",
       "    <tr>\n",
       "      <th>4</th>\n",
       "      <td>CN</td>\n",
       "      <td>NW</td>\n",
       "    </tr>\n",
       "  </tbody>\n",
       "</table>\n",
       "</div>"
      ],
      "text/plain": [
       "   code color\n",
       "0    WT    BW\n",
       "1  J0K8    WN\n",
       "2  J0K8    WN\n",
       "3  JA0H    WN\n",
       "4    CN    NW"
      ]
     },
     "execution_count": 16,
     "metadata": {},
     "output_type": "execute_result"
    }
   ],
   "source": [
    "\n",
    "dl = df.sort_values(\"filename\", ascending=True).reset_index(drop=True)\n",
    "dl.head(10)\n",
    "# exp_labels = dl[[\"code\", \"color\"]]\n",
    "# exp_labels.head()\n"
   ]
  },
  {
   "cell_type": "code",
   "execution_count": 5,
   "id": "a2b2f4a1",
   "metadata": {},
   "outputs": [],
   "source": [
    "class ExpDataSet(Dataset):\n",
    "    def __init__(self, img_path:str, labels_path:str, transform=None, max_n=None):\n",
    "        self.img_path = img_path\n",
    "        self.transform = transform\n",
    "        self.max_n = max_n\n",
    "\n",
    "        # Retrieve labels and sort them in alphabetical order to match the images\n",
    "        df = pd.read_csv(labels_path, sep=\"|\")\n",
    "        df = df.sort_values(\"filename\", ascending=True).reset_index(drop=True)\n",
    "\n",
    "        # Ensure the data contains the chosen amount of elements\n",
    "        if max_n is not None:\n",
    "            df = df[:self.max_n]\n",
    "        \n",
    "        # Retrieve images from folder and match them with labels\n",
    "        self.img_paths = df[\"filename\"].apply(lambda e: os.path.join(img_path, e)).to_list()\n",
    "\n",
    "        self.labels = list(df[[\"code\",\"color\"]].itertuples(index=False, name=None)) # Labels should be a list of tuples\n",
    "        \n",
    "    def __len__(self):\n",
    "        return len(self.img_paths)\n",
    "\n",
    "    def __getitem__(self, idx):\n",
    "        label = self.labels[idx]\n",
    "        image = Image.open(self.img_paths[idx]).convert('RGB')\n",
    "\n",
    "        if self.transform: # Add transformation mask to image\n",
    "            image = self.transform(image)\n",
    "        \n",
    "        return image, label"
   ]
  },
  {
   "cell_type": "code",
   "execution_count": 11,
   "id": "701cb823",
   "metadata": {},
   "outputs": [],
   "source": [
    "image_path = \"dataset/datasets/ringmerkingno/images\"\n",
    "max_n = 10\n",
    "exp_dataset = ExpDataSet(img_path=image_path, labels_path=label_path, max_n=max_n)\n",
    "\n",
    "\n"
   ]
  },
  {
   "cell_type": "code",
   "execution_count": 14,
   "id": "ab310a41",
   "metadata": {},
   "outputs": [
    {
     "name": "stdout",
     "output_type": "stream",
     "text": [
      "(<PIL.Image.Image image mode=RGB size=1200x948 at 0x2630025A2A0>, ('WT', 'BW'))\n",
      "(<PIL.Image.Image image mode=RGB size=1024x768 at 0x26342D62D50>, ('J0K8', 'WN'))\n",
      "(<PIL.Image.Image image mode=RGB size=1024x768 at 0x26342D62D50>, ('J0K8', 'WN'))\n",
      "(<PIL.Image.Image image mode=RGB size=1024x768 at 0x26342D62D50>, ('JA0H', 'WN'))\n",
      "(<PIL.Image.Image image mode=RGB size=1200x869 at 0x26342D62D50>, ('CN', 'NW'))\n",
      "(<PIL.Image.Image image mode=RGB size=1200x855 at 0x26342D62D50>, ('232', 'BO'))\n",
      "(<PIL.Image.Image image mode=RGB size=1200x891 at 0x26342D62D50>, ('924', 'BO'))\n",
      "(<PIL.Image.Image image mode=RGB size=1200x783 at 0x26342D62D50>, ('CZP', 'BO'))\n",
      "(<PIL.Image.Image image mode=RGB size=1200x1039 at 0x26342D62D50>, ('CZP', 'BO'))\n",
      "(<PIL.Image.Image image mode=RGB size=949x581 at 0x26342D62D50>, ('210E', 'BW'))\n"
     ]
    }
   ],
   "source": [
    "for i in range(0, max_n):\n",
    "    print(exp_dataset[i])"
   ]
  },
  {
   "cell_type": "code",
   "execution_count": null,
   "id": "aa415b28",
   "metadata": {},
   "outputs": [],
   "source": []
  }
 ],
 "metadata": {
  "kernelspec": {
   "display_name": "birdword",
   "language": "python",
   "name": "python3"
  },
  "language_info": {
   "codemirror_mode": {
    "name": "ipython",
    "version": 3
   },
   "file_extension": ".py",
   "mimetype": "text/x-python",
   "name": "python",
   "nbconvert_exporter": "python",
   "pygments_lexer": "ipython3",
   "version": "3.13.5"
  }
 },
 "nbformat": 4,
 "nbformat_minor": 5
}
