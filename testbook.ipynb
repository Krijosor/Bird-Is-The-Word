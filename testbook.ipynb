{
 "cells": [
  {
   "cell_type": "markdown",
   "id": "a667ce85",
   "metadata": {},
   "source": [
    "### Test of data instantiation"
   ]
  },
  {
   "cell_type": "code",
   "execution_count": 13,
   "id": "21443577",
   "metadata": {},
   "outputs": [],
   "source": [
    "import torch\n",
    "import numpy\n",
    "from torch.utils.data import Dataset, DataLoader \n",
    "from torchvision.datasets import ImageFolder\n",
    "import pandas as pd\n",
    "from PIL import Image\n",
    "import os\n"
   ]
  },
  {
   "cell_type": "code",
   "execution_count": null,
   "id": "3dc3d94a",
   "metadata": {},
   "outputs": [
    {
     "name": "stdout",
     "output_type": "stream",
     "text": [
      "(tensor([1., 1., 1.]), tensor(0))\n"
     ]
    }
   ],
   "source": [
    "\n",
    "        \n",
    "# img = torch.ones(6, 3)\n",
    "# labels = [0, 1, 1, 1, 0, 0]\n",
    "\n",
    "# dataset = ExpDataSet(img, labels)\n",
    "# print(dataset[4])\n",
    "\n"
   ]
  },
  {
   "cell_type": "code",
   "execution_count": null,
   "id": "9f3d42eb",
   "metadata": {},
   "outputs": [
    {
     "data": {
      "text/html": [
       "<div>\n",
       "<style scoped>\n",
       "    .dataframe tbody tr th:only-of-type {\n",
       "        vertical-align: middle;\n",
       "    }\n",
       "\n",
       "    .dataframe tbody tr th {\n",
       "        vertical-align: top;\n",
       "    }\n",
       "\n",
       "    .dataframe thead th {\n",
       "        text-align: right;\n",
       "    }\n",
       "</style>\n",
       "<table border=\"1\" class=\"dataframe\">\n",
       "  <thead>\n",
       "    <tr style=\"text-align: right;\">\n",
       "      <th></th>\n",
       "      <th>filename</th>\n",
       "      <th>code</th>\n",
       "      <th>color</th>\n",
       "    </tr>\n",
       "  </thead>\n",
       "  <tbody>\n",
       "    <tr>\n",
       "      <th>0</th>\n",
       "      <td>LBNW(J22M)_20080310234907_79.jpg</td>\n",
       "      <td>J22M</td>\n",
       "      <td>NW</td>\n",
       "    </tr>\n",
       "    <tr>\n",
       "      <th>1</th>\n",
       "      <td>LBNW(J03Y)_20080311094828_79.jpg</td>\n",
       "      <td>J03Y</td>\n",
       "      <td>NW</td>\n",
       "    </tr>\n",
       "    <tr>\n",
       "      <th>2</th>\n",
       "      <td>LBBW(JR0T)_20080320193604_79.jpg</td>\n",
       "      <td>JR0T</td>\n",
       "      <td>BW</td>\n",
       "    </tr>\n",
       "    <tr>\n",
       "      <th>3</th>\n",
       "      <td>LBBW(J1EM)_20080321135128_79.jpg</td>\n",
       "      <td>J1EM</td>\n",
       "      <td>BW</td>\n",
       "    </tr>\n",
       "    <tr>\n",
       "      <th>4</th>\n",
       "      <td>LBBW(JZ3K)_20111027125715_79.jpg</td>\n",
       "      <td>JZ3K</td>\n",
       "      <td>BW</td>\n",
       "    </tr>\n",
       "  </tbody>\n",
       "</table>\n",
       "</div>"
      ],
      "text/plain": [
       "                           filename  code color\n",
       "0  LBNW(J22M)_20080310234907_79.jpg  J22M    NW\n",
       "1  LBNW(J03Y)_20080311094828_79.jpg  J03Y    NW\n",
       "2  LBBW(JR0T)_20080320193604_79.jpg  JR0T    BW\n",
       "3  LBBW(J1EM)_20080321135128_79.jpg  J1EM    BW\n",
       "4  LBBW(JZ3K)_20111027125715_79.jpg  JZ3K    BW"
      ]
     },
     "execution_count": 5,
     "metadata": {},
     "output_type": "execute_result"
    }
   ],
   "source": [
    "# Local paths\n",
    "\n",
    "label_path = \"dataset/datasets/ringmerkingno/ringcodes.csv\"\n",
    "\n",
    "# Make sure to separate csv file on |\n",
    "df = pd.read_csv(label_path, sep=\"|\")\n",
    "\n",
    "df.head()"
   ]
  },
  {
   "cell_type": "code",
   "execution_count": null,
   "id": "d8f26995",
   "metadata": {},
   "outputs": [
    {
     "data": {
      "text/html": [
       "<div>\n",
       "<style scoped>\n",
       "    .dataframe tbody tr th:only-of-type {\n",
       "        vertical-align: middle;\n",
       "    }\n",
       "\n",
       "    .dataframe tbody tr th {\n",
       "        vertical-align: top;\n",
       "    }\n",
       "\n",
       "    .dataframe thead th {\n",
       "        text-align: right;\n",
       "    }\n",
       "</style>\n",
       "<table border=\"1\" class=\"dataframe\">\n",
       "  <thead>\n",
       "    <tr style=\"text-align: right;\">\n",
       "      <th></th>\n",
       "      <th>filename</th>\n",
       "      <th>code</th>\n",
       "      <th>color</th>\n",
       "    </tr>\n",
       "  </thead>\n",
       "  <tbody>\n",
       "    <tr>\n",
       "      <th>11531</th>\n",
       "      <td>RBWN(VA76)_20110428222633_385.jpg</td>\n",
       "      <td>VA76</td>\n",
       "      <td>WN</td>\n",
       "    </tr>\n",
       "    <tr>\n",
       "      <th>11532</th>\n",
       "      <td>RBWN(VA76)_20120330095526_79.jpg</td>\n",
       "      <td>VA76</td>\n",
       "      <td>WN</td>\n",
       "    </tr>\n",
       "    <tr>\n",
       "      <th>11533</th>\n",
       "      <td>RBWN(VA76)_20120611171008_385.jpg</td>\n",
       "      <td>VA76</td>\n",
       "      <td>WN</td>\n",
       "    </tr>\n",
       "    <tr>\n",
       "      <th>11534</th>\n",
       "      <td>RBWN(VE14)_20140314104129_385.jpg</td>\n",
       "      <td>VE14</td>\n",
       "      <td>WN</td>\n",
       "    </tr>\n",
       "    <tr>\n",
       "      <th>11535</th>\n",
       "      <td>RBYN(CR0A0)_20210816203135_764.jpg</td>\n",
       "      <td>CR0A0</td>\n",
       "      <td>YN</td>\n",
       "    </tr>\n",
       "  </tbody>\n",
       "</table>\n",
       "</div>"
      ],
      "text/plain": [
       "                                 filename   code color\n",
       "11531   RBWN(VA76)_20110428222633_385.jpg   VA76    WN\n",
       "11532    RBWN(VA76)_20120330095526_79.jpg   VA76    WN\n",
       "11533   RBWN(VA76)_20120611171008_385.jpg   VA76    WN\n",
       "11534   RBWN(VE14)_20140314104129_385.jpg   VE14    WN\n",
       "11535  RBYN(CR0A0)_20210816203135_764.jpg  CR0A0    YN"
      ]
     },
     "execution_count": 12,
     "metadata": {},
     "output_type": "execute_result"
    }
   ],
   "source": [
    "\n",
    "dl = df.sort_values(\"filename\", ascending=True).reset_index(drop=True)\n",
    "dl.head()\n",
    "exp_labels = dl[[\"code\", \"color\"]]\n",
    "exp_labels.head()\n"
   ]
  },
  {
   "cell_type": "code",
   "execution_count": 7,
   "id": "2fdfdbdf",
   "metadata": {},
   "outputs": [],
   "source": [
    "image_path = \"dataset/datasets/ringmerkingno/images\"\n",
    "exp_x = ...\n",
    "\n"
   ]
  },
  {
   "cell_type": "code",
   "execution_count": null,
   "id": "ab159b02",
   "metadata": {},
   "outputs": [
    {
     "ename": "TypeError",
     "evalue": "ExpDataSet.__init__() missing 2 required positional arguments: 'images' and 'labels'",
     "output_type": "error",
     "traceback": [
      "\u001b[31m---------------------------------------------------------------------------\u001b[39m",
      "\u001b[31mTypeError\u001b[39m                                 Traceback (most recent call last)",
      "\u001b[36mCell\u001b[39m\u001b[36m \u001b[39m\u001b[32mIn[8]\u001b[39m\u001b[32m, line 1\u001b[39m\n\u001b[32m----> \u001b[39m\u001b[32m1\u001b[39m exp_loader = \u001b[43mExpDataSet\u001b[49m\u001b[43m(\u001b[49m\u001b[43m)\u001b[49m\n",
      "\u001b[31mTypeError\u001b[39m: ExpDataSet.__init__() missing 2 required positional arguments: 'images' and 'labels'"
     ]
    }
   ],
   "source": []
  },
  {
   "cell_type": "code",
   "execution_count": null,
   "id": "a2b2f4a1",
   "metadata": {},
   "outputs": [],
   "source": [
    "class ExpDataSet(Dataset):\n",
    "    def __init__(self, img_path:str, labels_path:str, transform=None):\n",
    "        self.img_path = img_path\n",
    "        self.transform = transform\n",
    "\n",
    "        # Retrieve labels and sort them in alphabetical order to match the images\n",
    "        df = pd.read_csv(labels_path, sep=\"|\")\n",
    "        self.df = df.sort_values(\"filename\", ascending=True).reset_index(drop=True)\n",
    "        \n",
    "        # Retrieve images from folder and match them with labels\n",
    "        self.img_paths = self.df[\"filename\"].apply(lambda e: os.path.join(img_path, e))\n",
    "        \n",
    "        \n",
    "\n",
    "\n",
    "\n",
    "    def __len__(self):\n",
    "        return len(self.images)\n",
    "\n",
    "    def __getitem__(self, idx):\n",
    "        label = self.labels[idx]\n",
    "        image = self.images[idx]\n",
    "\n",
    "        if self.transform: # Add transformation mask to image\n",
    "            image = self.transform(image)\n",
    "        \n",
    "        return image, label"
   ]
  },
  {
   "cell_type": "code",
   "execution_count": null,
   "id": "701cb823",
   "metadata": {},
   "outputs": [],
   "source": []
  },
  {
   "cell_type": "code",
   "execution_count": null,
   "id": "ab310a41",
   "metadata": {},
   "outputs": [],
   "source": []
  },
  {
   "cell_type": "code",
   "execution_count": null,
   "id": "aa415b28",
   "metadata": {},
   "outputs": [],
   "source": []
  }
 ],
 "metadata": {
  "kernelspec": {
   "display_name": "birdword",
   "language": "python",
   "name": "python3"
  },
  "language_info": {
   "codemirror_mode": {
    "name": "ipython",
    "version": 3
   },
   "file_extension": ".py",
   "mimetype": "text/x-python",
   "name": "python",
   "nbconvert_exporter": "python",
   "pygments_lexer": "ipython3",
   "version": "3.10.11"
  }
 },
 "nbformat": 4,
 "nbformat_minor": 5
}
