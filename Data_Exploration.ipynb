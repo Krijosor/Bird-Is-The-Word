{
 "cells": [
  {
   "cell_type": "markdown",
   "id": "3981938d",
   "metadata": {},
   "source": [
    "# Data Exploration"
   ]
  },
  {
   "cell_type": "markdown",
   "id": "ed822030",
   "metadata": {},
   "source": [
    "### Imports & Global Variables"
   ]
  },
  {
   "cell_type": "code",
   "execution_count": 4,
   "id": "402fb0b7",
   "metadata": {},
   "outputs": [],
   "source": [
    "import torch\n",
    "import ultralytics\n",
    "from ultralytics import YOLO\n"
   ]
  },
  {
   "cell_type": "code",
   "execution_count": 2,
   "id": "d4aa7f0f",
   "metadata": {},
   "outputs": [
    {
     "name": "stdout",
     "output_type": "stream",
     "text": [
      "<class 'dict'>\n"
     ]
    }
   ],
   "source": [
    "model_data = torch.load('dataset/ringdetection20240404.pt', map_location='cpu')\n",
    "print(type(model_data))"
   ]
  },
  {
   "cell_type": "code",
   "execution_count": 6,
   "id": "48f9344c",
   "metadata": {},
   "outputs": [
    {
     "name": "stdout",
     "output_type": "stream",
     "text": [
      "\n",
      "image 1/1 c:\\Users\\Kris\\OneDrive\\VSC_git\\Bird-Is-The-Word\\dataset\\datasets\\ringmerkingno\\images\\LABW(WT);LBM_20120228142549_79.jpg: 512x640 1 ring, 238.0ms\n",
      "Speed: 6.7ms preprocess, 238.0ms inference, 1.6ms postprocess per image at shape (1, 3, 512, 640)\n"
     ]
    }
   ],
   "source": [
    "model = YOLO('dataset/ringdetection20240404.pt')\n",
    "results = model('dataset/datasets/ringmerkingno/images/LABW(WT);LBM_20120228142549_79.jpg')\n",
    "results[0].show()"
   ]
  }
 ],
 "metadata": {
  "kernelspec": {
   "display_name": "inf265",
   "language": "python",
   "name": "python3"
  },
  "language_info": {
   "codemirror_mode": {
    "name": "ipython",
    "version": 3
   },
   "file_extension": ".py",
   "mimetype": "text/x-python",
   "name": "python",
   "nbconvert_exporter": "python",
   "pygments_lexer": "ipython3",
   "version": "3.12.3"
  }
 },
 "nbformat": 4,
 "nbformat_minor": 5
}
