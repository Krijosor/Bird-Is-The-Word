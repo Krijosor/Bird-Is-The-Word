{
 "cells": [
  {
   "cell_type": "markdown",
   "id": "3981938d",
   "metadata": {},
   "source": [
    "# Data Exploration"
   ]
  },
  {
   "cell_type": "markdown",
   "id": "ed822030",
   "metadata": {},
   "source": [
    "### Imports & Global Variables"
   ]
  },
  {
   "cell_type": "code",
   "execution_count": 1,
   "id": "402fb0b7",
   "metadata": {},
   "outputs": [
    {
     "name": "stdout",
     "output_type": "stream",
     "text": [
      "Creating new Ultralytics Settings v0.0.6 file  \n",
      "View Ultralytics Settings with 'yolo settings' or at 'C:\\Users\\legom\\AppData\\Roaming\\Ultralytics\\settings.json'\n",
      "Update Settings with 'yolo settings key=value', i.e. 'yolo settings runs_dir=path/to/dir'. For help see https://docs.ultralytics.com/quickstart/#ultralytics-settings.\n"
     ]
    }
   ],
   "source": [
    "import torch\n",
    "import ultralytics\n",
    "from ultralytics import YOLO\n"
   ]
  },
  {
   "cell_type": "code",
   "execution_count": 6,
   "id": "48f9344c",
   "metadata": {},
   "outputs": [
    {
     "name": "stdout",
     "output_type": "stream",
     "text": [
      "\n",
      "image 1/1 c:\\Users\\legom\\programmering\\prosjekter\\Bird-Is-The-Word\\dataset\\datasets\\ringmerkingno\\images\\LABW(WT);LBM_20120228142549_79.jpg: 512x640 1 ring, 28.5ms\n",
      "Speed: 2.3ms preprocess, 28.5ms inference, 3.2ms postprocess per image at shape (1, 3, 512, 640)\n"
     ]
    }
   ],
   "source": [
    "model = YOLO('dataset/ringdetection20240404.pt')\n",
    "results = model.predict(source='dataset/datasets/ringmerkingno/images/LABW(WT);LBM_20120228142549_79.jpg')\n",
    "results[0].show()"
   ]
  },
  {
   "cell_type": "code",
   "execution_count": null,
   "id": "5a4fbc74",
   "metadata": {},
   "outputs": [
    {
     "name": "stdout",
     "output_type": "stream",
     "text": [
      "ultralytics.engine.results.Boxes object with attributes:\n",
      "\n",
      "cls: tensor([0.], device='cuda:0')\n",
      "conf: tensor([0.7605], device='cuda:0')\n",
      "data: tensor([[557.3651, 608.2177, 608.9379, 686.9639,   0.7605,   0.0000]], device='cuda:0')\n",
      "id: None\n",
      "is_track: False\n",
      "orig_shape: (948, 1200)\n",
      "shape: torch.Size([1, 6])\n",
      "xywh: tensor([[583.1515, 647.5908,  51.5728,  78.7462]], device='cuda:0')\n",
      "xywhn: tensor([[0.4860, 0.6831, 0.0430, 0.0831]], device='cuda:0')\n",
      "xyxy: tensor([[557.3651, 608.2177, 608.9379, 686.9639]], device='cuda:0')\n",
      "xyxyn: tensor([[0.4645, 0.6416, 0.5074, 0.7246]], device='cuda:0')\n"
     ]
    }
   ],
   "source": [
    "print(results[0].boxes)\n"
   ]
  }
 ],
 "metadata": {
  "kernelspec": {
   "display_name": "birdword",
   "language": "python",
   "name": "python3"
  },
  "language_info": {
   "codemirror_mode": {
    "name": "ipython",
    "version": 3
   },
   "file_extension": ".py",
   "mimetype": "text/x-python",
   "name": "python",
   "nbconvert_exporter": "python",
   "pygments_lexer": "ipython3",
   "version": "3.13.5"
  }
 },
 "nbformat": 4,
 "nbformat_minor": 5
}
