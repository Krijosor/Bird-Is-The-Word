{
 "cells": [
  {
   "cell_type": "markdown",
   "id": "3981938d",
   "metadata": {},
   "source": [
    "# Data Exploration"
   ]
  },
  {
   "cell_type": "markdown",
   "id": "ed822030",
   "metadata": {},
   "source": [
    "### Imports & Global Variables"
   ]
  },
  {
   "cell_type": "code",
   "execution_count": 34,
   "id": "402fb0b7",
   "metadata": {},
   "outputs": [],
   "source": [
    "import torch\n",
    "from ultralytics import YOLO\n",
    "from torch.utils.data import Dataset, DataLoader \n",
    "import numpy as np\n",
    "import matplotlib.pyplot as plt\n",
    "import os\n",
    "from torchmetrics import FBetaScore, Accuracy\n",
    "import torchvision.transforms as T\n",
    "from torchvision.transforms import functional as F\n",
    "import pandas as pd\n",
    "\n",
    "import src.dfmaker as dfmaker\n",
    "import src.BWDatasets as BWDatasets\n"
   ]
  },
  {
   "cell_type": "code",
   "execution_count": 35,
   "id": "bd34143c",
   "metadata": {},
   "outputs": [],
   "source": [
    "seed = 115\n",
    "generator = torch.Generator()\n",
    "generator.manual_seed(seed)\n",
    "np_generator = np.random.default_rng(seed=seed)"
   ]
  },
  {
   "cell_type": "code",
   "execution_count": null,
   "id": "d750b48c",
   "metadata": {},
   "outputs": [],
   "source": [
    "# Lyngøy\n",
    "label_path_lyng = \"dataset/datasets/lyngoy/ringcodes.csv\"\n",
    "image_path_lyng = \"dataset/datasets/lyngoy/images\"\n",
    "bb_path_lyng = \"dataset/datasets/lyngoy/labels\"\n",
    "\n",
    "df_lyng = dfmaker.make_dataframe(labels_path=label_path_lyng, img_path=image_path_lyng, bb_path=bb_path_lyng, max_n=10)\n",
    "\n",
    "transform = T.Compose([\n",
    "    T.Resize((640,640)),\n",
    "])\n",
    "\n",
    "exp_dataset = BWDatasets.TrainDataSet(df=df_lyng, transform=transform, max_n=10)"
   ]
  },
  {
   "cell_type": "code",
   "execution_count": null,
   "id": "b3124185",
   "metadata": {},
   "outputs": [],
   "source": []
  },
  {
   "cell_type": "code",
   "execution_count": 37,
   "id": "48f9344c",
   "metadata": {},
   "outputs": [],
   "source": [
    "model = YOLO('dataset/ringdetection20240404.pt')\n",
    "#results = model.predict(source='dataset/datasets/lyngoy/images/20180426_sildemake_4k+_J2TM_realfagsbygget_.jpg')\n",
    "#results[0].show()"
   ]
  },
  {
   "cell_type": "code",
   "execution_count": 39,
   "id": "2214cc9f",
   "metadata": {},
   "outputs": [],
   "source": [
    "exp_loader = DataLoader(dataset=exp_dataset, batch_size=64, shuffle=False, generator=generator)"
   ]
  },
  {
   "cell_type": "code",
   "execution_count": 40,
   "id": "d59a2640",
   "metadata": {},
   "outputs": [
    {
     "name": "stdout",
     "output_type": "stream",
     "text": [
      "\n",
      "WARNING torch.Tensor inputs should be normalized 0.0-1.0 but max value is 255.0. Dividing input by 255.\n",
      "0: 480x480 (no detections), 7.8ms\n",
      "1: 480x480 (no detections), 7.8ms\n",
      "2: 480x480 (no detections), 7.8ms\n",
      "3: 480x480 (no detections), 7.8ms\n",
      "4: 480x480 1 ring, 7.8ms\n",
      "5: 480x480 (no detections), 7.8ms\n",
      "6: 480x480 (no detections), 7.8ms\n",
      "7: 480x480 1 ring, 7.8ms\n",
      "8: 480x480 1 ring, 7.8ms\n",
      "9: 480x480 1 ring, 7.8ms\n",
      "Speed: 1.2ms preprocess, 7.8ms inference, 0.8ms postprocess per image at shape (1, 3, 480, 480)\n"
     ]
    }
   ],
   "source": [
    "results = []\n",
    "for data in exp_loader:\n",
    "    images = data[\"image\"]\n",
    "    images = images.float()\n",
    "    res = model.predict(source=images)\n",
    "    results.append(res[0])"
   ]
  },
  {
   "cell_type": "code",
   "execution_count": null,
   "id": "667fd000",
   "metadata": {},
   "outputs": [],
   "source": [
    "a = results[0]"
   ]
  },
  {
   "cell_type": "code",
   "execution_count": null,
   "id": "2c8dac0a",
   "metadata": {},
   "outputs": [],
   "source": []
  },
  {
   "cell_type": "code",
   "execution_count": null,
   "id": "2b32add1",
   "metadata": {},
   "outputs": [],
   "source": []
  },
  {
   "cell_type": "code",
   "execution_count": null,
   "id": "688d2d05",
   "metadata": {},
   "outputs": [],
   "source": []
  }
 ],
 "metadata": {
  "kernelspec": {
   "display_name": "birdword",
   "language": "python",
   "name": "python3"
  },
  "language_info": {
   "codemirror_mode": {
    "name": "ipython",
    "version": 3
   },
   "file_extension": ".py",
   "mimetype": "text/x-python",
   "name": "python",
   "nbconvert_exporter": "python",
   "pygments_lexer": "ipython3",
   "version": "3.13.5"
  }
 },
 "nbformat": 4,
 "nbformat_minor": 5
}
