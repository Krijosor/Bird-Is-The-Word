{
 "cells": [
  {
   "cell_type": "markdown",
   "id": "80594c90",
   "metadata": {},
   "source": [
    "### Train model\n"
   ]
  },
  {
   "cell_type": "code",
   "execution_count": null,
   "id": "fe854db7",
   "metadata": {},
   "outputs": [
    {
     "name": "stderr",
     "output_type": "stream",
     "text": [
      "c:\\Users\\legom\\anaconda3\\envs\\birdword\\Lib\\site-packages\\tqdm\\auto.py:21: TqdmWarning: IProgress not found. Please update jupyter and ipywidgets. See https://ipywidgets.readthedocs.io/en/stable/user_install.html\n",
      "  from .autonotebook import tqdm as notebook_tqdm\n",
      "c:\\Users\\legom\\anaconda3\\envs\\birdword\\Lib\\site-packages\\paddle\\utils\\cpp_extension\\extension_utils.py:715: UserWarning: No ccache found. Please be aware that recompiling all source files may be required. You can download and install ccache from: https://github.com/ccache/ccache/blob/master/doc/INSTALL.md\n",
      "  warnings.warn(warning_message)\n"
     ]
    }
   ],
   "source": [
    "import torch\n",
    "from torch.utils.data import DataLoader \n",
    "import numpy as np\n",
    "import matplotlib.pyplot as plt\n",
    "import os\n",
    "from torchmetrics import FBetaScore, Accuracy\n",
    "import torchvision.transforms as T\n",
    "from torchvision.transforms import functional as F\n",
    "\n",
    "import src.dfmaker as dfmaker\n",
    "import src.BWDatasets as BWDatasets\n",
    "import src.utility as utility\n",
    "\n",
    "from paddleocr import PaddleOCR\n",
    "import paddle\n"
   ]
  },
  {
   "cell_type": "code",
   "execution_count": 1,
   "id": "144191b1",
   "metadata": {},
   "outputs": [
    {
     "name": "stdout",
     "output_type": "stream",
     "text": [
      "PYTHON EXE: c:\\Users\\legom\\anaconda3\\envs\\birdword\\python.exe\n",
      "USER_SITE: C:\\Users\\legom\\AppData\\Roaming\\Python\\Python313\\site-packages\n",
      "SITE-PACKAGES: ['c:\\\\Users\\\\legom\\\\anaconda3\\\\envs\\\\birdword', 'c:\\\\Users\\\\legom\\\\anaconda3\\\\envs\\\\birdword\\\\Lib\\\\site-packages']\n",
      "paddleocr -> C:\\Users\\legom\\PaddleOCR\\paddleocr\\__init__.py\n",
      "ppocr -> None\n",
      "\n",
      "sys.path[0..5]:\n",
      "c:\\Users\\legom\\anaconda3\\envs\\birdword\\python313.zip\n",
      "c:\\Users\\legom\\anaconda3\\envs\\birdword\\DLLs\n",
      "c:\\Users\\legom\\anaconda3\\envs\\birdword\\Lib\n",
      "c:\\Users\\legom\\anaconda3\\envs\\birdword\n",
      "\n",
      "c:\\Users\\legom\\anaconda3\\envs\\birdword\\Lib\\site-packages\n"
     ]
    }
   ],
   "source": [
    "import sys, site, importlib.util, os\n",
    "print(\"PYTHON EXE:\", sys.executable)\n",
    "print(\"USER_SITE:\", site.getusersitepackages() if hasattr(site,'getusersitepackages') else None)\n",
    "print(\"SITE-PACKAGES:\", site.getsitepackages())\n",
    "for name in (\"paddleocr\",\"ppocr\"):\n",
    "    spec = importlib.util.find_spec(name)\n",
    "    print(f\"{name} ->\", spec and (spec.origin or spec))\n",
    "print(\"\\nsys.path[0..5]:\")\n",
    "print(\"\\n\".join(sys.path[:6]))"
   ]
  },
  {
   "cell_type": "code",
   "execution_count": 3,
   "id": "18a48a00",
   "metadata": {},
   "outputs": [],
   "source": [
    "seed = 115\n",
    "generator = torch.Generator()\n",
    "generator.manual_seed(seed)\n",
    "np_generator = np.random.default_rng(seed=seed)"
   ]
  },
  {
   "cell_type": "code",
   "execution_count": 4,
   "id": "e2ed35d4",
   "metadata": {},
   "outputs": [
    {
     "name": "stdout",
     "output_type": "stream",
     "text": [
      "Cuda availability is: True\n",
      "Training on device cuda.\n"
     ]
    }
   ],
   "source": [
    "device = torch.device('cpu')\n",
    "\n",
    "# Make sure the notebook is deterministic if training on gpu\n",
    "if torch.cuda.is_available():\n",
    "    device = torch.device('cuda')\n",
    "    os.environ[\"CUBLAS_WORKSPACE_CONFIG\"] = \":4096:8\"\n",
    "    torch.cuda.manual_seed_all(seed)\n",
    "    torch.backends.cudnn.benchmark = False\n",
    "\n",
    "print(f'Cuda availability is: {torch.cuda.is_available()}')  # Returns True if a GPU is available\n",
    "print(f\"Training on device {device}.\")"
   ]
  },
  {
   "cell_type": "code",
   "execution_count": null,
   "id": "4faebe20",
   "metadata": {},
   "outputs": [],
   "source": [
    "# Lyngøy\n",
    "label_path_lyng = \"dataset/datasets/lyngoy/ringcodes.csv\"\n",
    "image_path_lyng = \"dataset/datasets/lyngoy/images\"\n",
    "bb_path_lyng = \"dataset/datasets/lyngoy/labels\"\n",
    "\n",
    "# RF\n",
    "label_path_rf = \"dataset/datasets/rf/ringcodes.csv\"\n",
    "image_path_rf = \"dataset/datasets/rf/images\"\n",
    "bb_path_rf = \"dataset/datasets/rf/labels\"\n",
    "\n",
    "# Ringmerkingno\n",
    "label_path_rno = \"dataset/datasets/ringmerkingno/ringcodes.csv\"\n",
    "image_path_rno = \"dataset/datasets/ringmerkingno/images\"\n",
    "bb_path_rno = \"dataset/datasets/ringmerkingno/labels\"\n",
    "\n",
    "max_n_single = 10\n",
    "max_n_all = None\n",
    "height = 240 # 240 worked best for the provided dataset\n",
    "\n",
    "df_lyng = dfmaker.make_dataframe(labels_path=label_path_lyng, img_path=image_path_lyng, bb_path=bb_path_lyng, max_n=max_n_single)\n",
    "df_rf = dfmaker.make_dataframe(labels_path=label_path_rf, img_path=image_path_rf, bb_path=bb_path_rf, max_n=max_n_single)\n",
    "df_rno = dfmaker.make_dataframe(labels_path=label_path_rno, img_path=image_path_rno, bb_path=bb_path_rno, max_n=max_n_single)\n",
    "complete_df = dfmaker.combine_dfs([df_lyng, df_rf, df_rno], shuffle=True)\n",
    "\n",
    "# Shuffle the dataset to remove order of elements\n",
    "df_shuffled = complete_df.sample(frac=1).reset_index(drop=True)\n",
    "\n",
    "# Calculate the splits\n",
    "train_factor = 0.7\n",
    "val_factor = 0.15\n",
    "test_factor = 0.15\n",
    "\n",
    "train_n = int(train_factor*len(df_shuffled))\n",
    "val_n = int(val_factor*len(df_shuffled))\n",
    "test_n = int(test_factor*len(df_shuffled))\n",
    "\n",
    "# Split data into three dataframes\n",
    "df_train = df_shuffled.iloc[:train_n]\n",
    "df_val = df_shuffled.iloc[train_n:train_n+val_n]\n",
    "df_test = df_shuffled.iloc[train_n+val_n:]"
   ]
  },
  {
   "cell_type": "code",
   "execution_count": 14,
   "id": "544e6ca4",
   "metadata": {},
   "outputs": [],
   "source": [
    "transform = T.Compose([\n",
    "    T.Lambda(lambda x: F.rotate(x, -90, expand=True)),\n",
    "    T.Resize((height, utility.find_width(height))) \n",
    "])\n",
    "\n",
    "train_ds = BWDatasets.TrainDataSet(df=df_train, transform=transform, max_n=max_n_all)\n",
    "val_ds = BWDatasets.TrainDataSet(df=df_val, transform=transform, max_n=max_n_all)\n",
    "test_ds = BWDatasets.TrainDataSet(df=df_test, transform=transform, max_n=max_n_all)\n"
   ]
  },
  {
   "cell_type": "markdown",
   "id": "7fd3be43",
   "metadata": {},
   "source": [
    "### Load model"
   ]
  },
  {
   "cell_type": "code",
   "execution_count": null,
   "id": "0308ae48",
   "metadata": {},
   "outputs": [],
   "source": [
    "cfg = \"config.json\"\n",
    "model = ..."
   ]
  },
  {
   "cell_type": "code",
   "execution_count": null,
   "id": "19733eb7",
   "metadata": {},
   "outputs": [],
   "source": []
  },
  {
   "cell_type": "code",
   "execution_count": null,
   "id": "5407bc39",
   "metadata": {},
   "outputs": [
    {
     "ename": "ModuleNotFoundError",
     "evalue": "No module named 'ppocr'",
     "output_type": "error",
     "traceback": [
      "\u001b[31m---------------------------------------------------------------------------\u001b[39m",
      "\u001b[31mModuleNotFoundError\u001b[39m                       Traceback (most recent call last)",
      "\u001b[36mCell\u001b[39m\u001b[36m \u001b[39m\u001b[32mIn[19]\u001b[39m\u001b[32m, line 1\u001b[39m\n\u001b[32m----> \u001b[39m\u001b[32m1\u001b[39m \u001b[38;5;28;01mfrom\u001b[39;00m\u001b[38;5;250m \u001b[39m\u001b[34;01mppocr\u001b[39;00m\u001b[34;01m.\u001b[39;00m\u001b[34;01mmodeling\u001b[39;00m\u001b[34;01m.\u001b[39;00m\u001b[34;01marchitectures\u001b[39;00m\u001b[38;5;250m \u001b[39m\u001b[38;5;28;01mimport\u001b[39;00m rec_model\n",
      "\u001b[31mModuleNotFoundError\u001b[39m: No module named 'ppocr'"
     ]
    }
   ],
   "source": []
  },
  {
   "cell_type": "code",
   "execution_count": null,
   "id": "357b9246",
   "metadata": {},
   "outputs": [],
   "source": []
  }
 ],
 "metadata": {
  "kernelspec": {
   "display_name": "birdword",
   "language": "python",
   "name": "python3"
  },
  "language_info": {
   "codemirror_mode": {
    "name": "ipython",
    "version": 3
   },
   "file_extension": ".py",
   "mimetype": "text/x-python",
   "name": "python",
   "nbconvert_exporter": "python",
   "pygments_lexer": "ipython3",
   "version": "3.13.5"
  }
 },
 "nbformat": 4,
 "nbformat_minor": 5
}
