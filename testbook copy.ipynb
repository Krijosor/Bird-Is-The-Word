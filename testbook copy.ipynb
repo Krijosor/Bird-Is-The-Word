{
 "cells": [
  {
   "cell_type": "markdown",
   "id": "a667ce85",
   "metadata": {},
   "source": [
    "### Test of data instantiation"
   ]
  },
  {
   "cell_type": "code",
   "execution_count": null,
   "id": "21443577",
   "metadata": {},
   "outputs": [],
   "source": [
    "import torch\n",
    "from torch.utils.data import DataLoader \n",
    "import numpy as np\n",
    "import matplotlib.pyplot as plt\n",
    "import os\n",
    "from torchmetrics import FBetaScore, Accuracy\n",
    "import torchvision.transforms as T\n",
    "from torchvision.transforms import functional as F\n",
    "\n",
    "import src.dfmaker as dfmaker\n",
    "import src.BWDatasets as BWDatasets\n",
    "\n",
    "from paddleocr import PaddleOCR\n",
    "import paddle\n"
   ]
  },
  {
   "cell_type": "markdown",
   "id": "181b9f6a",
   "metadata": {},
   "source": [
    "### Ensure Reproducibility"
   ]
  },
  {
   "cell_type": "code",
   "execution_count": null,
   "id": "52f722ff",
   "metadata": {},
   "outputs": [],
   "source": [
    "seed = 115\n",
    "generator = torch.Generator()\n",
    "generator.manual_seed(seed)\n",
    "np_generator = np.random.default_rng(seed=seed)"
   ]
  },
  {
   "cell_type": "markdown",
   "id": "9b79d1e5",
   "metadata": {},
   "source": [
    "### Activate CUDA"
   ]
  },
  {
   "cell_type": "code",
   "execution_count": null,
   "id": "c8d03023",
   "metadata": {},
   "outputs": [],
   "source": [
    "device = torch.device('cpu')\n",
    "\n",
    "# Make sure the notebook is deterministic if training on gpu\n",
    "if torch.cuda.is_available():\n",
    "    device = torch.device('cuda')\n",
    "    os.environ[\"CUBLAS_WORKSPACE_CONFIG\"] = \":4096:8\"\n",
    "    torch.cuda.manual_seed_all(seed)\n",
    "    torch.backends.cudnn.benchmark = False\n",
    "\n",
    "print(f'Cuda availability is: {torch.cuda.is_available()}')  # Returns True if a GPU is available\n",
    "print(f\"Training on device {device}.\")"
   ]
  },
  {
   "cell_type": "code",
   "execution_count": null,
   "id": "7f49defd",
   "metadata": {},
   "outputs": [],
   "source": [
    "def find_width(height):\n",
    "    return int(1.7*height)"
   ]
  },
  {
   "cell_type": "code",
   "execution_count": null,
   "id": "701cb823",
   "metadata": {},
   "outputs": [],
   "source": [
    "# Lyngøy\n",
    "label_path_lyng = \"dataset/datasets/lyngoy/ringcodes.csv\"\n",
    "image_path_lyng = \"dataset/datasets/lyngoy/images\"\n",
    "bb_path_lyng = \"dataset/datasets/lyngoy/labels\"\n",
    "\n",
    "# RF\n",
    "label_path_rf = \"dataset/datasets/rf/ringcodes.csv\"\n",
    "image_path_rf = \"dataset/datasets/rf/images\"\n",
    "bb_path_rf = \"dataset/datasets/rf/labels\"\n",
    "\n",
    "# Ringmerkingno\n",
    "label_path_rno = \"dataset/datasets/ringmerkingno/ringcodes.csv\"\n",
    "image_path_rno = \"dataset/datasets/ringmerkingno/images\"\n",
    "bb_path_rno = \"dataset/datasets/ringmerkingno/labels\"\n",
    "\n",
    "height = 112\n",
    "max_n_single = None\n",
    "max_n_all = None\n",
    "transform = T.Compose([\n",
    "    T.Lambda(lambda x: F.rotate(x, -90, expand=True)),\n",
    "    T.Resize((height, find_width(height)))\n",
    "])\n",
    "\n",
    "df_lyng = dfmaker.make_dataframe(labels_path=label_path_lyng, img_path=image_path_lyng, bb_path=bb_path_lyng, max_n=max_n_single)\n",
    "df_rf = dfmaker.make_dataframe(labels_path=label_path_rf, img_path=image_path_rf, bb_path=bb_path_rf, max_n=max_n_single)\n",
    "df_rno = dfmaker.make_dataframe(labels_path=label_path_rno, img_path=image_path_rno, bb_path=bb_path_rno, max_n=max_n_single)\n",
    "complete_df = dfmaker.combine_dfs([df_lyng, df_rf, df_rno])\n",
    "\n",
    "exp_dataset = BWDatasets.TrainDataSet(df=complete_df, transform=transform, max_n=max_n_all)\n",
    "exp_loader = DataLoader(dataset=exp_dataset, batch_size=64, shuffle=False, generator=generator)"
   ]
  },
  {
   "cell_type": "code",
   "execution_count": null,
   "id": "9dba3905",
   "metadata": {},
   "outputs": [],
   "source": [
    "#stop"
   ]
  },
  {
   "cell_type": "code",
   "execution_count": null,
   "id": "6c628614",
   "metadata": {},
   "outputs": [],
   "source": [
    "def draw_image(img):\n",
    "    img_uint8 = BWDatasets.tensor_to_numpy(img)\n",
    "    plt.figure(figsize=(12,12))\n",
    "    plt.imshow(img_uint8)\n",
    "    plt.axis(\"off\")\n",
    "    plt.show()"
   ]
  },
  {
   "cell_type": "code",
   "execution_count": null,
   "id": "b5b40e01",
   "metadata": {},
   "outputs": [],
   "source": [
    "data = exp_dataset[0]\n",
    "\n",
    "draw_image(data[\"ocr_image\"])\n",
    "draw_image(data[\"image\"])\n"
   ]
  },
  {
   "cell_type": "code",
   "execution_count": null,
   "id": "fb14f71c",
   "metadata": {},
   "outputs": [],
   "source": [
    "#stop\n",
    "\n"
   ]
  },
  {
   "cell_type": "code",
   "execution_count": null,
   "id": "aa415b28",
   "metadata": {},
   "outputs": [],
   "source": [
    "paddle.device.set_device(\"gpu:0\")\n",
    "ocr = PaddleOCR(lang=\"en\", \n",
    "           use_doc_orientation_classify=True, \n",
    "           use_doc_unwarping=True, \n",
    "           use_textline_orientation=True, device='gpu')\n"
   ]
  },
  {
   "cell_type": "code",
   "execution_count": null,
   "id": "bdb1a3f6",
   "metadata": {},
   "outputs": [],
   "source": [
    "def prediction(dataloader):\n",
    "    preds = []\n",
    "    targets = []\n",
    "    count = 0\n",
    "    for data in dataloader:\n",
    "        count +=1\n",
    "        print(f'Batch {count} of {len(dataloader)}')\n",
    "        images = BWDatasets.tensor_to_numpy(data[\"ocr_image\"])\n",
    "        labels = data[\"label\"][0]\n",
    "        for i, image in enumerate(images):\n",
    "            \n",
    "            result = ocr.predict(image)\n",
    "\n",
    "            pred = result[0][\"rec_texts\"]\n",
    "\n",
    "            if not pred:\n",
    "                pred = ['Not Found']\n",
    "\n",
    "            preds.append(pred[0])\n",
    "\n",
    "            label = labels[i]\n",
    "            \n",
    "            targets.append(label)\n",
    "\n",
    "    return preds, targets\n"
   ]
  },
  {
   "cell_type": "code",
   "execution_count": null,
   "id": "161cad7e",
   "metadata": {},
   "outputs": [],
   "source": [
    "def evaluate_model(preds, labels):\n",
    "    # print(f'preds: {preds}')\n",
    "    # print(f'labels: {labels}')\n",
    "    \n",
    "    # Boolean mask for the predictions and the labels\n",
    "    # Prediction = 1 if it is correct, 0 otherwise\n",
    "    # Labels are always = to 1\n",
    "    bin_preds = [int(pred == label) for pred, label in zip(preds, labels)]\n",
    "    bin_labels = [1]*len(labels)\n",
    "\n",
    "    preds_tensor, labels_tensor = torch.tensor(bin_preds), torch.tensor(bin_labels)\n",
    "    fbeta = FBetaScore(task='binary', beta=0.5)\n",
    "    acc = Accuracy(task='binary')\n",
    "\n",
    "    print(f'Model F1 Score: {fbeta(preds_tensor, labels_tensor)}')\n",
    "    print(f'Model Accuracy: {acc(preds_tensor, labels_tensor)}')\n",
    "    # print(f'preds: {preds_tensor}')\n",
    "    # print(f'labesl: {labels_tensor}')\n",
    "\n",
    "    return acc(preds_tensor, labels_tensor)"
   ]
  },
  {
   "cell_type": "code",
   "execution_count": null,
   "id": "ab310a41",
   "metadata": {},
   "outputs": [],
   "source": [
    "\n",
    "exp_loader = DataLoader(dataset=exp_dataset, batch_size=64, shuffle=False, generator=generator)\n"
   ]
  },
  {
   "cell_type": "code",
   "execution_count": null,
   "id": "99e29bf5",
   "metadata": {},
   "outputs": [],
   "source": [
    "height1 = 32\n",
    "height2 = 64\n",
    "height3 = 200\n",
    "\n",
    "SIZES = { \n",
    "        \"Height 32\": (height1, find_width(height1)),\n",
    "        \"Height 64\": (height2, find_width(height2)),\n",
    "        \"Height 200\": (height3, find_width(height3))\n",
    "        }\n",
    "\n",
    "predictions = {}\n",
    "\n",
    "for sizestr, size in SIZES.items():\n",
    "    print(f'Size: {sizestr} ')\n",
    "\n",
    "    newtrans = T.Compose([\n",
    "    T.Lambda(lambda x: F.rotate(x, -90, expand=True)),\n",
    "    T.Resize((size[0], size[1]))\n",
    "    ])\n",
    "    exp_dataset.transform = newtrans\n",
    "    \n",
    "    exp_loader = DataLoader(dataset=exp_dataset, batch_size=64, shuffle=False, generator=generator)\n",
    "\n",
    "    preds, labels = prediction(exp_loader)\n",
    "\n",
    "    result = evaluate_model(preds=preds, labels=labels)\n",
    "\n",
    "    predictions[sizestr] = result\n",
    "    \n"
   ]
  },
  {
   "cell_type": "code",
   "execution_count": null,
   "id": "0c950dd1",
   "metadata": {},
   "outputs": [],
   "source": [
    "print(predictions)"
   ]
  },
  {
   "cell_type": "code",
   "execution_count": null,
   "id": "b56b44a4",
   "metadata": {},
   "outputs": [],
   "source": []
  }
 ],
 "metadata": {
  "kernelspec": {
   "display_name": "birdword",
   "language": "python",
   "name": "python3"
  },
  "language_info": {
   "codemirror_mode": {
    "name": "ipython",
    "version": 3
   },
   "file_extension": ".py",
   "mimetype": "text/x-python",
   "name": "python",
   "nbconvert_exporter": "python",
   "pygments_lexer": "ipython3",
   "version": "3.13.5"
  }
 },
 "nbformat": 4,
 "nbformat_minor": 5
}
